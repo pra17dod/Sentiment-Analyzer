{
  "nbformat": 4,
  "nbformat_minor": 0,
  "metadata": {
    "colab": {
      "name": "Copy of Copy of Sentiment_analysis2.ipynb",
      "provenance": [],
      "collapsed_sections": [],
      "toc_visible": true
    },
    "kernelspec": {
      "display_name": "Python 3",
      "name": "python3"
    },
    "language_info": {
      "name": "python"
    }
  },
  "cells": [
    {
      "cell_type": "code",
      "metadata": {
        "id": "t-0tjCVw0kHR"
      },
      "source": [
        "import numpy as np \n",
        "import pandas as pd "
      ],
      "execution_count": 100,
      "outputs": []
    },
    {
      "cell_type": "code",
      "metadata": {
        "colab": {
          "base_uri": "https://localhost:8080/"
        },
        "id": "aZeYckl1NV8B",
        "outputId": "b7f20204-6b3c-4428-88f4-851f57fe4825"
      },
      "source": [
        "from google.colab import drive\n",
        "drive.mount('/content/drive')"
      ],
      "execution_count": 101,
      "outputs": [
        {
          "output_type": "stream",
          "text": [
            "Mounted at /content/drive\n"
          ],
          "name": "stdout"
        }
      ]
    },
    {
      "cell_type": "code",
      "metadata": {
        "colab": {
          "base_uri": "https://localhost:8080/"
        },
        "id": "zi2SNbalNhBU",
        "outputId": "3f278b07-1c59-499b-c13e-e94f785ba559"
      },
      "source": [
        "!unzip /content/drive/Shareddrives/Hackathon/AMOC/sentiment140.zip -d /content/\n",
        "!mv /content/'training.1600000.processed.noemoticon.csv' /content/dataset.csv"
      ],
      "execution_count": 102,
      "outputs": [
        {
          "output_type": "stream",
          "text": [
            "Archive:  /content/drive/Shareddrives/Hackathon/AMOC/sentiment140.zip\n",
            "  inflating: /content/training.1600000.processed.noemoticon.csv  \n"
          ],
          "name": "stdout"
        }
      ]
    },
    {
      "cell_type": "markdown",
      "metadata": {
        "id": "dI7QTXffMTAB"
      },
      "source": [
        "# Loading the Dataset, We use engine=python as loading was giving error ( not able to read large sentences ) "
      ]
    },
    {
      "cell_type": "code",
      "metadata": {
        "id": "zbrcLRfZCV3o"
      },
      "source": [
        "data=pd.read_csv(\"/content/dataset.csv\", encoding = \"ISO-8859-1\", engine=\"python\")"
      ],
      "execution_count": 103,
      "outputs": []
    },
    {
      "cell_type": "code",
      "metadata": {
        "id": "gkGxxwtgOAER",
        "colab": {
          "base_uri": "https://localhost:8080/",
          "height": 221
        },
        "outputId": "09a36df0-ea45-46a2-f4db-b2bdc896e2d9"
      },
      "source": [
        "data.tail(5)"
      ],
      "execution_count": 104,
      "outputs": [
        {
          "output_type": "execute_result",
          "data": {
            "text/html": [
              "<div>\n",
              "<style scoped>\n",
              "    .dataframe tbody tr th:only-of-type {\n",
              "        vertical-align: middle;\n",
              "    }\n",
              "\n",
              "    .dataframe tbody tr th {\n",
              "        vertical-align: top;\n",
              "    }\n",
              "\n",
              "    .dataframe thead th {\n",
              "        text-align: right;\n",
              "    }\n",
              "</style>\n",
              "<table border=\"1\" class=\"dataframe\">\n",
              "  <thead>\n",
              "    <tr style=\"text-align: right;\">\n",
              "      <th></th>\n",
              "      <th>0</th>\n",
              "      <th>1467810369</th>\n",
              "      <th>Mon Apr 06 22:19:45 PDT 2009</th>\n",
              "      <th>NO_QUERY</th>\n",
              "      <th>_TheSpecialOne_</th>\n",
              "      <th>@switchfoot http://twitpic.com/2y1zl - Awww, that's a bummer.  You shoulda got David Carr of Third Day to do it. ;D</th>\n",
              "    </tr>\n",
              "  </thead>\n",
              "  <tbody>\n",
              "    <tr>\n",
              "      <th>1599994</th>\n",
              "      <td>4</td>\n",
              "      <td>2193601966</td>\n",
              "      <td>Tue Jun 16 08:40:49 PDT 2009</td>\n",
              "      <td>NO_QUERY</td>\n",
              "      <td>AmandaMarie1028</td>\n",
              "      <td>Just woke up. Having no school is the best fee...</td>\n",
              "    </tr>\n",
              "    <tr>\n",
              "      <th>1599995</th>\n",
              "      <td>4</td>\n",
              "      <td>2193601969</td>\n",
              "      <td>Tue Jun 16 08:40:49 PDT 2009</td>\n",
              "      <td>NO_QUERY</td>\n",
              "      <td>TheWDBoards</td>\n",
              "      <td>TheWDB.com - Very cool to hear old Walt interv...</td>\n",
              "    </tr>\n",
              "    <tr>\n",
              "      <th>1599996</th>\n",
              "      <td>4</td>\n",
              "      <td>2193601991</td>\n",
              "      <td>Tue Jun 16 08:40:49 PDT 2009</td>\n",
              "      <td>NO_QUERY</td>\n",
              "      <td>bpbabe</td>\n",
              "      <td>Are you ready for your MoJo Makeover? Ask me f...</td>\n",
              "    </tr>\n",
              "    <tr>\n",
              "      <th>1599997</th>\n",
              "      <td>4</td>\n",
              "      <td>2193602064</td>\n",
              "      <td>Tue Jun 16 08:40:49 PDT 2009</td>\n",
              "      <td>NO_QUERY</td>\n",
              "      <td>tinydiamondz</td>\n",
              "      <td>Happy 38th Birthday to my boo of alll time!!! ...</td>\n",
              "    </tr>\n",
              "    <tr>\n",
              "      <th>1599998</th>\n",
              "      <td>4</td>\n",
              "      <td>2193602129</td>\n",
              "      <td>Tue Jun 16 08:40:50 PDT 2009</td>\n",
              "      <td>NO_QUERY</td>\n",
              "      <td>RyanTrevMorris</td>\n",
              "      <td>happy #charitytuesday @theNSPCC @SparksCharity...</td>\n",
              "    </tr>\n",
              "  </tbody>\n",
              "</table>\n",
              "</div>"
            ],
            "text/plain": [
              "         0  ...  @switchfoot http://twitpic.com/2y1zl - Awww, that's a bummer.  You shoulda got David Carr of Third Day to do it. ;D\n",
              "1599994  4  ...  Just woke up. Having no school is the best fee...                                                                  \n",
              "1599995  4  ...  TheWDB.com - Very cool to hear old Walt interv...                                                                  \n",
              "1599996  4  ...  Are you ready for your MoJo Makeover? Ask me f...                                                                  \n",
              "1599997  4  ...  Happy 38th Birthday to my boo of alll time!!! ...                                                                  \n",
              "1599998  4  ...  happy #charitytuesday @theNSPCC @SparksCharity...                                                                  \n",
              "\n",
              "[5 rows x 6 columns]"
            ]
          },
          "metadata": {
            "tags": []
          },
          "execution_count": 104
        }
      ]
    },
    {
      "cell_type": "code",
      "metadata": {
        "id": "aGeEJjal1Dus",
        "colab": {
          "base_uri": "https://localhost:8080/",
          "height": 221
        },
        "outputId": "50bd26b3-4f75-4fd5-c5ab-c6e468003213"
      },
      "source": [
        "data.head(5)"
      ],
      "execution_count": 105,
      "outputs": [
        {
          "output_type": "execute_result",
          "data": {
            "text/html": [
              "<div>\n",
              "<style scoped>\n",
              "    .dataframe tbody tr th:only-of-type {\n",
              "        vertical-align: middle;\n",
              "    }\n",
              "\n",
              "    .dataframe tbody tr th {\n",
              "        vertical-align: top;\n",
              "    }\n",
              "\n",
              "    .dataframe thead th {\n",
              "        text-align: right;\n",
              "    }\n",
              "</style>\n",
              "<table border=\"1\" class=\"dataframe\">\n",
              "  <thead>\n",
              "    <tr style=\"text-align: right;\">\n",
              "      <th></th>\n",
              "      <th>0</th>\n",
              "      <th>1467810369</th>\n",
              "      <th>Mon Apr 06 22:19:45 PDT 2009</th>\n",
              "      <th>NO_QUERY</th>\n",
              "      <th>_TheSpecialOne_</th>\n",
              "      <th>@switchfoot http://twitpic.com/2y1zl - Awww, that's a bummer.  You shoulda got David Carr of Third Day to do it. ;D</th>\n",
              "    </tr>\n",
              "  </thead>\n",
              "  <tbody>\n",
              "    <tr>\n",
              "      <th>0</th>\n",
              "      <td>0</td>\n",
              "      <td>1467810672</td>\n",
              "      <td>Mon Apr 06 22:19:49 PDT 2009</td>\n",
              "      <td>NO_QUERY</td>\n",
              "      <td>scotthamilton</td>\n",
              "      <td>is upset that he can't update his Facebook by ...</td>\n",
              "    </tr>\n",
              "    <tr>\n",
              "      <th>1</th>\n",
              "      <td>0</td>\n",
              "      <td>1467810917</td>\n",
              "      <td>Mon Apr 06 22:19:53 PDT 2009</td>\n",
              "      <td>NO_QUERY</td>\n",
              "      <td>mattycus</td>\n",
              "      <td>@Kenichan I dived many times for the ball. Man...</td>\n",
              "    </tr>\n",
              "    <tr>\n",
              "      <th>2</th>\n",
              "      <td>0</td>\n",
              "      <td>1467811184</td>\n",
              "      <td>Mon Apr 06 22:19:57 PDT 2009</td>\n",
              "      <td>NO_QUERY</td>\n",
              "      <td>ElleCTF</td>\n",
              "      <td>my whole body feels itchy and like its on fire</td>\n",
              "    </tr>\n",
              "    <tr>\n",
              "      <th>3</th>\n",
              "      <td>0</td>\n",
              "      <td>1467811193</td>\n",
              "      <td>Mon Apr 06 22:19:57 PDT 2009</td>\n",
              "      <td>NO_QUERY</td>\n",
              "      <td>Karoli</td>\n",
              "      <td>@nationwideclass no, it's not behaving at all....</td>\n",
              "    </tr>\n",
              "    <tr>\n",
              "      <th>4</th>\n",
              "      <td>0</td>\n",
              "      <td>1467811372</td>\n",
              "      <td>Mon Apr 06 22:20:00 PDT 2009</td>\n",
              "      <td>NO_QUERY</td>\n",
              "      <td>joy_wolf</td>\n",
              "      <td>@Kwesidei not the whole crew</td>\n",
              "    </tr>\n",
              "  </tbody>\n",
              "</table>\n",
              "</div>"
            ],
            "text/plain": [
              "   0  ...  @switchfoot http://twitpic.com/2y1zl - Awww, that's a bummer.  You shoulda got David Carr of Third Day to do it. ;D\n",
              "0  0  ...  is upset that he can't update his Facebook by ...                                                                  \n",
              "1  0  ...  @Kenichan I dived many times for the ball. Man...                                                                  \n",
              "2  0  ...    my whole body feels itchy and like its on fire                                                                   \n",
              "3  0  ...  @nationwideclass no, it's not behaving at all....                                                                  \n",
              "4  0  ...                      @Kwesidei not the whole crew                                                                   \n",
              "\n",
              "[5 rows x 6 columns]"
            ]
          },
          "metadata": {
            "tags": []
          },
          "execution_count": 105
        }
      ]
    },
    {
      "cell_type": "markdown",
      "metadata": {
        "id": "Nh7uFFIHO9Kw"
      },
      "source": [
        "# modifying data columns for better understanding"
      ]
    },
    {
      "cell_type": "code",
      "metadata": {
        "id": "QGmLH1DU36z1",
        "colab": {
          "base_uri": "https://localhost:8080/",
          "height": 419
        },
        "outputId": "8205d2ee-239d-4a79-98ee-d6f551f446d4"
      },
      "source": [
        "data.columns = [\"label\", \"time\", \"date\", \"query\", \"username\", \"text\"]\n",
        "data"
      ],
      "execution_count": 106,
      "outputs": [
        {
          "output_type": "execute_result",
          "data": {
            "text/html": [
              "<div>\n",
              "<style scoped>\n",
              "    .dataframe tbody tr th:only-of-type {\n",
              "        vertical-align: middle;\n",
              "    }\n",
              "\n",
              "    .dataframe tbody tr th {\n",
              "        vertical-align: top;\n",
              "    }\n",
              "\n",
              "    .dataframe thead th {\n",
              "        text-align: right;\n",
              "    }\n",
              "</style>\n",
              "<table border=\"1\" class=\"dataframe\">\n",
              "  <thead>\n",
              "    <tr style=\"text-align: right;\">\n",
              "      <th></th>\n",
              "      <th>label</th>\n",
              "      <th>time</th>\n",
              "      <th>date</th>\n",
              "      <th>query</th>\n",
              "      <th>username</th>\n",
              "      <th>text</th>\n",
              "    </tr>\n",
              "  </thead>\n",
              "  <tbody>\n",
              "    <tr>\n",
              "      <th>0</th>\n",
              "      <td>0</td>\n",
              "      <td>1467810672</td>\n",
              "      <td>Mon Apr 06 22:19:49 PDT 2009</td>\n",
              "      <td>NO_QUERY</td>\n",
              "      <td>scotthamilton</td>\n",
              "      <td>is upset that he can't update his Facebook by ...</td>\n",
              "    </tr>\n",
              "    <tr>\n",
              "      <th>1</th>\n",
              "      <td>0</td>\n",
              "      <td>1467810917</td>\n",
              "      <td>Mon Apr 06 22:19:53 PDT 2009</td>\n",
              "      <td>NO_QUERY</td>\n",
              "      <td>mattycus</td>\n",
              "      <td>@Kenichan I dived many times for the ball. Man...</td>\n",
              "    </tr>\n",
              "    <tr>\n",
              "      <th>2</th>\n",
              "      <td>0</td>\n",
              "      <td>1467811184</td>\n",
              "      <td>Mon Apr 06 22:19:57 PDT 2009</td>\n",
              "      <td>NO_QUERY</td>\n",
              "      <td>ElleCTF</td>\n",
              "      <td>my whole body feels itchy and like its on fire</td>\n",
              "    </tr>\n",
              "    <tr>\n",
              "      <th>3</th>\n",
              "      <td>0</td>\n",
              "      <td>1467811193</td>\n",
              "      <td>Mon Apr 06 22:19:57 PDT 2009</td>\n",
              "      <td>NO_QUERY</td>\n",
              "      <td>Karoli</td>\n",
              "      <td>@nationwideclass no, it's not behaving at all....</td>\n",
              "    </tr>\n",
              "    <tr>\n",
              "      <th>4</th>\n",
              "      <td>0</td>\n",
              "      <td>1467811372</td>\n",
              "      <td>Mon Apr 06 22:20:00 PDT 2009</td>\n",
              "      <td>NO_QUERY</td>\n",
              "      <td>joy_wolf</td>\n",
              "      <td>@Kwesidei not the whole crew</td>\n",
              "    </tr>\n",
              "    <tr>\n",
              "      <th>...</th>\n",
              "      <td>...</td>\n",
              "      <td>...</td>\n",
              "      <td>...</td>\n",
              "      <td>...</td>\n",
              "      <td>...</td>\n",
              "      <td>...</td>\n",
              "    </tr>\n",
              "    <tr>\n",
              "      <th>1599994</th>\n",
              "      <td>4</td>\n",
              "      <td>2193601966</td>\n",
              "      <td>Tue Jun 16 08:40:49 PDT 2009</td>\n",
              "      <td>NO_QUERY</td>\n",
              "      <td>AmandaMarie1028</td>\n",
              "      <td>Just woke up. Having no school is the best fee...</td>\n",
              "    </tr>\n",
              "    <tr>\n",
              "      <th>1599995</th>\n",
              "      <td>4</td>\n",
              "      <td>2193601969</td>\n",
              "      <td>Tue Jun 16 08:40:49 PDT 2009</td>\n",
              "      <td>NO_QUERY</td>\n",
              "      <td>TheWDBoards</td>\n",
              "      <td>TheWDB.com - Very cool to hear old Walt interv...</td>\n",
              "    </tr>\n",
              "    <tr>\n",
              "      <th>1599996</th>\n",
              "      <td>4</td>\n",
              "      <td>2193601991</td>\n",
              "      <td>Tue Jun 16 08:40:49 PDT 2009</td>\n",
              "      <td>NO_QUERY</td>\n",
              "      <td>bpbabe</td>\n",
              "      <td>Are you ready for your MoJo Makeover? Ask me f...</td>\n",
              "    </tr>\n",
              "    <tr>\n",
              "      <th>1599997</th>\n",
              "      <td>4</td>\n",
              "      <td>2193602064</td>\n",
              "      <td>Tue Jun 16 08:40:49 PDT 2009</td>\n",
              "      <td>NO_QUERY</td>\n",
              "      <td>tinydiamondz</td>\n",
              "      <td>Happy 38th Birthday to my boo of alll time!!! ...</td>\n",
              "    </tr>\n",
              "    <tr>\n",
              "      <th>1599998</th>\n",
              "      <td>4</td>\n",
              "      <td>2193602129</td>\n",
              "      <td>Tue Jun 16 08:40:50 PDT 2009</td>\n",
              "      <td>NO_QUERY</td>\n",
              "      <td>RyanTrevMorris</td>\n",
              "      <td>happy #charitytuesday @theNSPCC @SparksCharity...</td>\n",
              "    </tr>\n",
              "  </tbody>\n",
              "</table>\n",
              "<p>1599999 rows × 6 columns</p>\n",
              "</div>"
            ],
            "text/plain": [
              "         label  ...                                               text\n",
              "0            0  ...  is upset that he can't update his Facebook by ...\n",
              "1            0  ...  @Kenichan I dived many times for the ball. Man...\n",
              "2            0  ...    my whole body feels itchy and like its on fire \n",
              "3            0  ...  @nationwideclass no, it's not behaving at all....\n",
              "4            0  ...                      @Kwesidei not the whole crew \n",
              "...        ...  ...                                                ...\n",
              "1599994      4  ...  Just woke up. Having no school is the best fee...\n",
              "1599995      4  ...  TheWDB.com - Very cool to hear old Walt interv...\n",
              "1599996      4  ...  Are you ready for your MoJo Makeover? Ask me f...\n",
              "1599997      4  ...  Happy 38th Birthday to my boo of alll time!!! ...\n",
              "1599998      4  ...  happy #charitytuesday @theNSPCC @SparksCharity...\n",
              "\n",
              "[1599999 rows x 6 columns]"
            ]
          },
          "metadata": {
            "tags": []
          },
          "execution_count": 106
        }
      ]
    },
    {
      "cell_type": "markdown",
      "metadata": {
        "id": "-M8gYpYMPXDD"
      },
      "source": [
        "# Checking if values are null\n"
      ]
    },
    {
      "cell_type": "code",
      "metadata": {
        "id": "nsNORFYyPUfL",
        "colab": {
          "base_uri": "https://localhost:8080/"
        },
        "outputId": "806693ab-878a-4acf-c75c-4cc9c4f876db"
      },
      "source": [
        "data.isnull().sum()"
      ],
      "execution_count": 107,
      "outputs": [
        {
          "output_type": "execute_result",
          "data": {
            "text/plain": [
              "label       0\n",
              "time        0\n",
              "date        0\n",
              "query       0\n",
              "username    0\n",
              "text        0\n",
              "dtype: int64"
            ]
          },
          "metadata": {
            "tags": []
          },
          "execution_count": 107
        }
      ]
    },
    {
      "cell_type": "markdown",
      "metadata": {
        "id": "FbW6zAVMKl4a"
      },
      "source": [
        "# Only text and label should be used as conclusion"
      ]
    },
    {
      "cell_type": "code",
      "metadata": {
        "id": "4eobQb0XPgyq"
      },
      "source": [
        "data=data[['label','text']]"
      ],
      "execution_count": 108,
      "outputs": []
    },
    {
      "cell_type": "code",
      "metadata": {
        "id": "21aQz2RoQqTT",
        "colab": {
          "base_uri": "https://localhost:8080/"
        },
        "outputId": "01396b5a-548d-4aaf-e3e8-4c7b71471c00"
      },
      "source": [
        "data['text']=data['text'].str.lower()\n",
        "data['text']"
      ],
      "execution_count": 109,
      "outputs": [
        {
          "output_type": "stream",
          "text": [
            "/usr/local/lib/python3.7/dist-packages/ipykernel_launcher.py:1: SettingWithCopyWarning: \n",
            "A value is trying to be set on a copy of a slice from a DataFrame.\n",
            "Try using .loc[row_indexer,col_indexer] = value instead\n",
            "\n",
            "See the caveats in the documentation: https://pandas.pydata.org/pandas-docs/stable/user_guide/indexing.html#returning-a-view-versus-a-copy\n",
            "  \"\"\"Entry point for launching an IPython kernel.\n"
          ],
          "name": "stderr"
        },
        {
          "output_type": "execute_result",
          "data": {
            "text/plain": [
              "0          is upset that he can't update his facebook by ...\n",
              "1          @kenichan i dived many times for the ball. man...\n",
              "2            my whole body feels itchy and like its on fire \n",
              "3          @nationwideclass no, it's not behaving at all....\n",
              "4                              @kwesidei not the whole crew \n",
              "                                 ...                        \n",
              "1599994    just woke up. having no school is the best fee...\n",
              "1599995    thewdb.com - very cool to hear old walt interv...\n",
              "1599996    are you ready for your mojo makeover? ask me f...\n",
              "1599997    happy 38th birthday to my boo of alll time!!! ...\n",
              "1599998    happy #charitytuesday @thenspcc @sparkscharity...\n",
              "Name: text, Length: 1599999, dtype: object"
            ]
          },
          "metadata": {
            "tags": []
          },
          "execution_count": 109
        }
      ]
    },
    {
      "cell_type": "markdown",
      "metadata": {
        "id": "F55BtcDkLCPB"
      },
      "source": [
        "# We use Nltk library for text analysis\n",
        "Various procedures involved are :-\n",
        "\n",
        "# i) Cleaning DATA\n"
      ]
    },
    {
      "cell_type": "code",
      "metadata": {
        "id": "YsLziWhqSaOY",
        "colab": {
          "base_uri": "https://localhost:8080/"
        },
        "outputId": "9f303d4f-3d89-46fa-df29-ba4d286c8946"
      },
      "source": [
        "import nltk\n",
        "nltk.download('stopwords')"
      ],
      "execution_count": 110,
      "outputs": [
        {
          "output_type": "stream",
          "text": [
            "[nltk_data] Downloading package stopwords to /root/nltk_data...\n",
            "[nltk_data]   Unzipping corpora/stopwords.zip.\n"
          ],
          "name": "stdout"
        },
        {
          "output_type": "execute_result",
          "data": {
            "text/plain": [
              "True"
            ]
          },
          "metadata": {
            "tags": []
          },
          "execution_count": 110
        }
      ]
    },
    {
      "cell_type": "markdown",
      "metadata": {
        "id": "mQ6IVAcqLyi6"
      },
      "source": [
        "# Importing stop words from nltk "
      ]
    },
    {
      "cell_type": "code",
      "metadata": {
        "id": "ejXDEKYiK_sA",
        "colab": {
          "base_uri": "https://localhost:8080/"
        },
        "outputId": "fe5eed9f-4ee6-48d2-d940-460c8434596c"
      },
      "source": [
        "data.label.value_counts()"
      ],
      "execution_count": 111,
      "outputs": [
        {
          "output_type": "execute_result",
          "data": {
            "text/plain": [
              "4    800000\n",
              "0    799999\n",
              "Name: label, dtype: int64"
            ]
          },
          "metadata": {
            "tags": []
          },
          "execution_count": 111
        }
      ]
    },
    {
      "cell_type": "markdown",
      "metadata": {
        "id": "GrAlng5KUTis"
      },
      "source": [
        "# words used as stop words"
      ]
    },
    {
      "cell_type": "code",
      "metadata": {
        "id": "Y-X3n9JALxfK"
      },
      "source": [
        "from nltk.corpus import stopwords\n",
        "stopwords_list = stopwords.words('english')"
      ],
      "execution_count": 112,
      "outputs": []
    },
    {
      "cell_type": "markdown",
      "metadata": {
        "id": "-CdyjA8SU21J"
      },
      "source": [
        "FIRST 5 STOPWORDS"
      ]
    },
    {
      "cell_type": "code",
      "metadata": {
        "id": "F0-a4nYQTXU3",
        "colab": {
          "base_uri": "https://localhost:8080/"
        },
        "outputId": "5ebad32c-e587-4cfa-99b7-42c3ff66d484"
      },
      "source": [
        "stopwords_list[0:5]"
      ],
      "execution_count": 113,
      "outputs": [
        {
          "output_type": "execute_result",
          "data": {
            "text/plain": [
              "['i', 'me', 'my', 'myself', 'we']"
            ]
          },
          "metadata": {
            "tags": []
          },
          "execution_count": 113
        }
      ]
    },
    {
      "cell_type": "code",
      "metadata": {
        "id": "rVZ3i9riTgu-",
        "colab": {
          "base_uri": "https://localhost:8080/"
        },
        "outputId": "76e15cc8-d9a6-470a-8bf2-952591b22f61"
      },
      "source": [
        "data['label'][data['label']==4]=1\n",
        "data_pos = data[data['label'] == 1]\n",
        "data_neg = data[data['label'] == 0]"
      ],
      "execution_count": 114,
      "outputs": [
        {
          "output_type": "stream",
          "text": [
            "/usr/local/lib/python3.7/dist-packages/ipykernel_launcher.py:1: SettingWithCopyWarning: \n",
            "A value is trying to be set on a copy of a slice from a DataFrame\n",
            "\n",
            "See the caveats in the documentation: https://pandas.pydata.org/pandas-docs/stable/user_guide/indexing.html#returning-a-view-versus-a-copy\n",
            "  \"\"\"Entry point for launching an IPython kernel.\n",
            "/usr/local/lib/python3.7/dist-packages/pandas/core/series.py:1021: SettingWithCopyWarning: \n",
            "A value is trying to be set on a copy of a slice from a DataFrame\n",
            "\n",
            "See the caveats in the documentation: https://pandas.pydata.org/pandas-docs/stable/user_guide/indexing.html#returning-a-view-versus-a-copy\n",
            "  self._where(~key, value, inplace=True)\n"
          ],
          "name": "stderr"
        }
      ]
    },
    {
      "cell_type": "code",
      "metadata": {
        "id": "T5UBvq0YU_Tc"
      },
      "source": [
        "data_pos = data_pos.iloc[:int(40000)]\n",
        "data_neg = data_neg.iloc[:int(40000)]"
      ],
      "execution_count": 115,
      "outputs": []
    },
    {
      "cell_type": "code",
      "metadata": {
        "id": "YtcxBC1m52Xz"
      },
      "source": [
        "data = pd.concat([data_pos, data_neg])"
      ],
      "execution_count": 116,
      "outputs": []
    },
    {
      "cell_type": "markdown",
      "metadata": {
        "id": "sOGrsXOwNmMj"
      },
      "source": [
        "# Removing stopwords from dataset"
      ]
    },
    {
      "cell_type": "code",
      "metadata": {
        "id": "IBG8RiKLPhXM",
        "colab": {
          "base_uri": "https://localhost:8080/"
        },
        "outputId": "412073f9-97d7-4ded-e27c-99fe78941b56"
      },
      "source": [
        "STOPWORDS = set(stopwords.words('english'))\n",
        "def cleaning_stopwords(text):\n",
        "    return \" \".join([word for word in str(text).split() if word not in STOPWORDS])\n",
        "data['text'] = data['text'].apply(lambda text: cleaning_stopwords(text))\n",
        "data['text'].head()"
      ],
      "execution_count": 117,
      "outputs": [
        {
          "output_type": "execute_result",
          "data": {
            "text/plain": [
              "799999                love @health4uandpets u guys r best!!\n",
              "800000    im meeting one besties tonight! cant wait!! - ...\n",
              "800001    @darealsunisakim thanks twitter add, sunisa! g...\n",
              "800002    sick really cheap hurts much eat real food plu...\n",
              "800003                      @lovesbrooklyn2 effect everyone\n",
              "Name: text, dtype: object"
            ]
          },
          "metadata": {
            "tags": []
          },
          "execution_count": 117
        }
      ]
    },
    {
      "cell_type": "markdown",
      "metadata": {
        "id": "5bumCsrMNyMY"
      },
      "source": [
        "# Cleaning and removing punctutions"
      ]
    },
    {
      "cell_type": "code",
      "metadata": {
        "colab": {
          "base_uri": "https://localhost:8080/",
          "height": 35
        },
        "id": "REcnCyroNkNO",
        "outputId": "b7148b99-923d-4c64-8b88-a351802483ad"
      },
      "source": [
        "import string\n",
        "english_punctuations = string.punctuation\n",
        "punctuations_list = english_punctuations\n",
        "punctuations_list[0:]"
      ],
      "execution_count": 118,
      "outputs": [
        {
          "output_type": "execute_result",
          "data": {
            "application/vnd.google.colaboratory.intrinsic+json": {
              "type": "string"
            },
            "text/plain": [
              "'!\"#$%&\\'()*+,-./:;<=>?@[\\\\]^_`{|}~'"
            ]
          },
          "metadata": {
            "tags": []
          },
          "execution_count": 118
        }
      ]
    },
    {
      "cell_type": "code",
      "metadata": {
        "id": "jKIIlpOfTPWl",
        "colab": {
          "base_uri": "https://localhost:8080/"
        },
        "outputId": "effcd953-22ad-4f5e-bca0-2207bd7d5f64"
      },
      "source": [
        "def cleaning_punctuations(text):\n",
        "    translator = str.maketrans('', '', punctuations_list)\n",
        "    return text.translate(translator)\n",
        "data['text']= data['text'].apply(lambda x: cleaning_punctuations(x))\n",
        "data['text'].tail()"
      ],
      "execution_count": 119,
      "outputs": [
        {
          "output_type": "execute_result",
          "data": {
            "text/plain": [
              "39995    mittec problems literally spent 2 hours cleani...\n",
              "39996                                              ow head\n",
              "39997    anyway particularly looking foreward labs toda...\n",
              "39998                     allergies insomnia matter reason\n",
              "39999    scottcabal im working evening could daytime su...\n",
              "Name: text, dtype: object"
            ]
          },
          "metadata": {
            "tags": []
          },
          "execution_count": 119
        }
      ]
    },
    {
      "cell_type": "markdown",
      "metadata": {
        "id": "lKfdcGiZQ2R1"
      },
      "source": [
        "# Cleaning and removing URL's"
      ]
    },
    {
      "cell_type": "code",
      "metadata": {
        "id": "5T5LsadYSySl",
        "colab": {
          "base_uri": "https://localhost:8080/"
        },
        "outputId": "2b1c8b35-e07b-4d8e-9181-de232f451ec0"
      },
      "source": [
        "import re\n",
        "def cleaning_URLs(data):\n",
        "    return re.sub('((www\\.[^\\s]+)|(https?://[^\\s]+))',' ',str(data))\n",
        "data['text'] = data['text'].apply(lambda x: cleaning_URLs(x))\n",
        "data['text'].tail()"
      ],
      "execution_count": 120,
      "outputs": [
        {
          "output_type": "execute_result",
          "data": {
            "text/plain": [
              "39995    mittec problems literally spent 2 hours cleani...\n",
              "39996                                              ow head\n",
              "39997    anyway particularly looking foreward labs toda...\n",
              "39998                     allergies insomnia matter reason\n",
              "39999    scottcabal im working evening could daytime su...\n",
              "Name: text, dtype: object"
            ]
          },
          "metadata": {
            "tags": []
          },
          "execution_count": 120
        }
      ]
    },
    {
      "cell_type": "markdown",
      "metadata": {
        "id": "b_RQuZabVUoy"
      },
      "source": [
        "# Removing Numeric characters"
      ]
    },
    {
      "cell_type": "code",
      "metadata": {
        "id": "bKnhjOXKXTWW",
        "colab": {
          "base_uri": "https://localhost:8080/"
        },
        "outputId": "2421da4a-0f46-4716-f8af-4f3a4c1468d8"
      },
      "source": [
        "def cleaning_numbers(data):\n",
        "    return re.sub('[0-9]+', '', data)\n",
        "data['text'] = data['text'].apply(lambda x: cleaning_numbers(x))\n",
        "data['text'].tail()"
      ],
      "execution_count": 121,
      "outputs": [
        {
          "output_type": "execute_result",
          "data": {
            "text/plain": [
              "39995    mittec problems literally spent  hours cleanin...\n",
              "39996                                              ow head\n",
              "39997    anyway particularly looking foreward labs toda...\n",
              "39998                     allergies insomnia matter reason\n",
              "39999    scottcabal im working evening could daytime su...\n",
              "Name: text, dtype: object"
            ]
          },
          "metadata": {
            "tags": []
          },
          "execution_count": 121
        }
      ]
    },
    {
      "cell_type": "markdown",
      "metadata": {
        "id": "kvrmwdpeYUti"
      },
      "source": [
        "# ii) TOKENIZING \n",
        "Tokenization is the process of converting data into smaller sub parts for better analysis ( Eg: breaking words in sentence)"
      ]
    },
    {
      "cell_type": "code",
      "metadata": {
        "id": "xf7exZqUXyNe"
      },
      "source": [
        "from nltk.tokenize import RegexpTokenizer"
      ],
      "execution_count": 122,
      "outputs": []
    },
    {
      "cell_type": "code",
      "metadata": {
        "id": "CzZ4-mv1aqWx",
        "colab": {
          "base_uri": "https://localhost:8080/",
          "height": 204
        },
        "outputId": "f2371989-e156-43e6-e6db-4ab5aa36328e"
      },
      "source": [
        "tokenizer = RegexpTokenizer(r'\\w+')\n",
        "data['text'] = data['text'].apply(tokenizer.tokenize)\n",
        "data.head()"
      ],
      "execution_count": 123,
      "outputs": [
        {
          "output_type": "execute_result",
          "data": {
            "text/html": [
              "<div>\n",
              "<style scoped>\n",
              "    .dataframe tbody tr th:only-of-type {\n",
              "        vertical-align: middle;\n",
              "    }\n",
              "\n",
              "    .dataframe tbody tr th {\n",
              "        vertical-align: top;\n",
              "    }\n",
              "\n",
              "    .dataframe thead th {\n",
              "        text-align: right;\n",
              "    }\n",
              "</style>\n",
              "<table border=\"1\" class=\"dataframe\">\n",
              "  <thead>\n",
              "    <tr style=\"text-align: right;\">\n",
              "      <th></th>\n",
              "      <th>label</th>\n",
              "      <th>text</th>\n",
              "    </tr>\n",
              "  </thead>\n",
              "  <tbody>\n",
              "    <tr>\n",
              "      <th>799999</th>\n",
              "      <td>1</td>\n",
              "      <td>[love, healthuandpets, u, guys, r, best]</td>\n",
              "    </tr>\n",
              "    <tr>\n",
              "      <th>800000</th>\n",
              "      <td>1</td>\n",
              "      <td>[im, meeting, one, besties, tonight, cant, wai...</td>\n",
              "    </tr>\n",
              "    <tr>\n",
              "      <th>800001</th>\n",
              "      <td>1</td>\n",
              "      <td>[darealsunisakim, thanks, twitter, add, sunisa...</td>\n",
              "    </tr>\n",
              "    <tr>\n",
              "      <th>800002</th>\n",
              "      <td>1</td>\n",
              "      <td>[sick, really, cheap, hurts, much, eat, real, ...</td>\n",
              "    </tr>\n",
              "    <tr>\n",
              "      <th>800003</th>\n",
              "      <td>1</td>\n",
              "      <td>[lovesbrooklyn, effect, everyone]</td>\n",
              "    </tr>\n",
              "  </tbody>\n",
              "</table>\n",
              "</div>"
            ],
            "text/plain": [
              "        label                                               text\n",
              "799999      1           [love, healthuandpets, u, guys, r, best]\n",
              "800000      1  [im, meeting, one, besties, tonight, cant, wai...\n",
              "800001      1  [darealsunisakim, thanks, twitter, add, sunisa...\n",
              "800002      1  [sick, really, cheap, hurts, much, eat, real, ...\n",
              "800003      1                  [lovesbrooklyn, effect, everyone]"
            ]
          },
          "metadata": {
            "tags": []
          },
          "execution_count": 123
        }
      ]
    },
    {
      "cell_type": "markdown",
      "metadata": {
        "id": "Q0C3mE-6a5zL"
      },
      "source": [
        "# iii) Applying Stemming\n",
        "We reduce words to their root form"
      ]
    },
    {
      "cell_type": "code",
      "metadata": {
        "id": "CKs_4v7iax1U"
      },
      "source": [
        "from nltk.stem import PorterStemmer "
      ],
      "execution_count": 124,
      "outputs": []
    },
    {
      "cell_type": "code",
      "metadata": {
        "id": "TDakPMu_bVLa"
      },
      "source": [
        "stemer = nltk.PorterStemmer()\n",
        "def stemming_on_text(data):\n",
        "    text = [stemer.stem(word) for word in data]\n",
        "    return data\n",
        "\n",
        "data['text']= data['text'].apply(lambda x: stemming_on_text(x))"
      ],
      "execution_count": 125,
      "outputs": []
    },
    {
      "cell_type": "code",
      "metadata": {
        "id": "J7IjLbpSb9zH",
        "colab": {
          "base_uri": "https://localhost:8080/",
          "height": 204
        },
        "outputId": "4feb7b2e-266a-401d-cbbc-120ef7346535"
      },
      "source": [
        "data.head()"
      ],
      "execution_count": 126,
      "outputs": [
        {
          "output_type": "execute_result",
          "data": {
            "text/html": [
              "<div>\n",
              "<style scoped>\n",
              "    .dataframe tbody tr th:only-of-type {\n",
              "        vertical-align: middle;\n",
              "    }\n",
              "\n",
              "    .dataframe tbody tr th {\n",
              "        vertical-align: top;\n",
              "    }\n",
              "\n",
              "    .dataframe thead th {\n",
              "        text-align: right;\n",
              "    }\n",
              "</style>\n",
              "<table border=\"1\" class=\"dataframe\">\n",
              "  <thead>\n",
              "    <tr style=\"text-align: right;\">\n",
              "      <th></th>\n",
              "      <th>label</th>\n",
              "      <th>text</th>\n",
              "    </tr>\n",
              "  </thead>\n",
              "  <tbody>\n",
              "    <tr>\n",
              "      <th>799999</th>\n",
              "      <td>1</td>\n",
              "      <td>[love, healthuandpets, u, guys, r, best]</td>\n",
              "    </tr>\n",
              "    <tr>\n",
              "      <th>800000</th>\n",
              "      <td>1</td>\n",
              "      <td>[im, meeting, one, besties, tonight, cant, wai...</td>\n",
              "    </tr>\n",
              "    <tr>\n",
              "      <th>800001</th>\n",
              "      <td>1</td>\n",
              "      <td>[darealsunisakim, thanks, twitter, add, sunisa...</td>\n",
              "    </tr>\n",
              "    <tr>\n",
              "      <th>800002</th>\n",
              "      <td>1</td>\n",
              "      <td>[sick, really, cheap, hurts, much, eat, real, ...</td>\n",
              "    </tr>\n",
              "    <tr>\n",
              "      <th>800003</th>\n",
              "      <td>1</td>\n",
              "      <td>[lovesbrooklyn, effect, everyone]</td>\n",
              "    </tr>\n",
              "  </tbody>\n",
              "</table>\n",
              "</div>"
            ],
            "text/plain": [
              "        label                                               text\n",
              "799999      1           [love, healthuandpets, u, guys, r, best]\n",
              "800000      1  [im, meeting, one, besties, tonight, cant, wai...\n",
              "800001      1  [darealsunisakim, thanks, twitter, add, sunisa...\n",
              "800002      1  [sick, really, cheap, hurts, much, eat, real, ...\n",
              "800003      1                  [lovesbrooklyn, effect, everyone]"
            ]
          },
          "metadata": {
            "tags": []
          },
          "execution_count": 126
        }
      ]
    },
    {
      "cell_type": "markdown",
      "metadata": {
        "id": "LcG7w8yxcSLY"
      },
      "source": [
        "# iv) Applying Lemmatization\n",
        "It is same as stemming but it also looks for dictionary relation while stemming is dependent on part of speech"
      ]
    },
    {
      "cell_type": "code",
      "metadata": {
        "id": "jX3YJ4J8hmlD",
        "colab": {
          "base_uri": "https://localhost:8080/"
        },
        "outputId": "125f5917-fb04-446c-d27a-98240d3831ad"
      },
      "source": [
        "nltk.download('wordnet')"
      ],
      "execution_count": 127,
      "outputs": [
        {
          "output_type": "stream",
          "text": [
            "[nltk_data] Downloading package wordnet to /root/nltk_data...\n",
            "[nltk_data]   Unzipping corpora/wordnet.zip.\n"
          ],
          "name": "stdout"
        },
        {
          "output_type": "execute_result",
          "data": {
            "text/plain": [
              "True"
            ]
          },
          "metadata": {
            "tags": []
          },
          "execution_count": 127
        }
      ]
    },
    {
      "cell_type": "code",
      "metadata": {
        "id": "gOPEm6lTcLKO"
      },
      "source": [
        "lm = nltk.WordNetLemmatizer()\n",
        "def lemmatizer_on_text(data):\n",
        "    text = [lm.lemmatize(word) for word in data]\n",
        "    return data\n",
        "\n",
        "data['text'] = data['text'].apply(lambda x: lemmatizer_on_text(x))"
      ],
      "execution_count": 128,
      "outputs": []
    },
    {
      "cell_type": "code",
      "metadata": {
        "id": "n4SMY5gUhuMe",
        "colab": {
          "base_uri": "https://localhost:8080/",
          "height": 204
        },
        "outputId": "772744f6-ecb2-4b6a-fdd8-b67d03f1993d"
      },
      "source": [
        "data.head()"
      ],
      "execution_count": 129,
      "outputs": [
        {
          "output_type": "execute_result",
          "data": {
            "text/html": [
              "<div>\n",
              "<style scoped>\n",
              "    .dataframe tbody tr th:only-of-type {\n",
              "        vertical-align: middle;\n",
              "    }\n",
              "\n",
              "    .dataframe tbody tr th {\n",
              "        vertical-align: top;\n",
              "    }\n",
              "\n",
              "    .dataframe thead th {\n",
              "        text-align: right;\n",
              "    }\n",
              "</style>\n",
              "<table border=\"1\" class=\"dataframe\">\n",
              "  <thead>\n",
              "    <tr style=\"text-align: right;\">\n",
              "      <th></th>\n",
              "      <th>label</th>\n",
              "      <th>text</th>\n",
              "    </tr>\n",
              "  </thead>\n",
              "  <tbody>\n",
              "    <tr>\n",
              "      <th>799999</th>\n",
              "      <td>1</td>\n",
              "      <td>[love, healthuandpets, u, guys, r, best]</td>\n",
              "    </tr>\n",
              "    <tr>\n",
              "      <th>800000</th>\n",
              "      <td>1</td>\n",
              "      <td>[im, meeting, one, besties, tonight, cant, wai...</td>\n",
              "    </tr>\n",
              "    <tr>\n",
              "      <th>800001</th>\n",
              "      <td>1</td>\n",
              "      <td>[darealsunisakim, thanks, twitter, add, sunisa...</td>\n",
              "    </tr>\n",
              "    <tr>\n",
              "      <th>800002</th>\n",
              "      <td>1</td>\n",
              "      <td>[sick, really, cheap, hurts, much, eat, real, ...</td>\n",
              "    </tr>\n",
              "    <tr>\n",
              "      <th>800003</th>\n",
              "      <td>1</td>\n",
              "      <td>[lovesbrooklyn, effect, everyone]</td>\n",
              "    </tr>\n",
              "  </tbody>\n",
              "</table>\n",
              "</div>"
            ],
            "text/plain": [
              "        label                                               text\n",
              "799999      1           [love, healthuandpets, u, guys, r, best]\n",
              "800000      1  [im, meeting, one, besties, tonight, cant, wai...\n",
              "800001      1  [darealsunisakim, thanks, twitter, add, sunisa...\n",
              "800002      1  [sick, really, cheap, hurts, much, eat, real, ...\n",
              "800003      1                  [lovesbrooklyn, effect, everyone]"
            ]
          },
          "metadata": {
            "tags": []
          },
          "execution_count": 129
        }
      ]
    },
    {
      "cell_type": "markdown",
      "metadata": {
        "id": "DApMlJzGiZCS"
      },
      "source": [
        "Now data cleaning is done"
      ]
    },
    {
      "cell_type": "code",
      "metadata": {
        "id": "yF66UFvrh9gQ",
        "colab": {
          "base_uri": "https://localhost:8080/"
        },
        "outputId": "cc9c79ad-ab57-4ac8-c3ee-20d9b26aba43"
      },
      "source": [
        "input=data['text']\n",
        "output=data['label']\n",
        "\n",
        "input\n"
      ],
      "execution_count": 130,
      "outputs": [
        {
          "output_type": "execute_result",
          "data": {
            "text/plain": [
              "799999             [love, healthuandpets, u, guys, r, best]\n",
              "800000    [im, meeting, one, besties, tonight, cant, wai...\n",
              "800001    [darealsunisakim, thanks, twitter, add, sunisa...\n",
              "800002    [sick, really, cheap, hurts, much, eat, real, ...\n",
              "800003                    [lovesbrooklyn, effect, everyone]\n",
              "                                ...                        \n",
              "39995     [mittec, problems, literally, spent, hours, cl...\n",
              "39996                                            [ow, head]\n",
              "39997     [anyway, particularly, looking, foreward, labs...\n",
              "39998                 [allergies, insomnia, matter, reason]\n",
              "39999     [scottcabal, im, working, evening, could, dayt...\n",
              "Name: text, Length: 80000, dtype: object"
            ]
          },
          "metadata": {
            "tags": []
          },
          "execution_count": 130
        }
      ]
    },
    {
      "cell_type": "code",
      "metadata": {
        "id": "VIw5lLqacBIt"
      },
      "source": [
        "from tensorflow.keras.layers import LSTM, Activation, Dense, Dropout, Input, Embedding\n",
        "from tensorflow.keras.models import Model\n",
        "from tensorflow.keras.optimizers import RMSprop\n",
        "from tensorflow.keras.preprocessing.text import Tokenizer\n",
        "from tensorflow.keras.preprocessing import sequence\n",
        "%matplotlib inline\n",
        "\n",
        "import warnings\n",
        "warnings.filterwarnings(\"ignore\")"
      ],
      "execution_count": 131,
      "outputs": []
    },
    {
      "cell_type": "code",
      "metadata": {
        "id": "xDIDS8idtSr1"
      },
      "source": [
        "max_len = 1000\n",
        "tok = Tokenizer(num_words=2000)\n",
        "tok.fit_on_texts(input)\n",
        "sequences = tok.texts_to_sequences(input)\n",
        "sequences_matrix = sequence.pad_sequences(sequences,maxlen=max_len)"
      ],
      "execution_count": 132,
      "outputs": []
    },
    {
      "cell_type": "code",
      "metadata": {
        "id": "8uHAfy1kXB_k"
      },
      "source": [
        "import pickle\n",
        "with open('/content/drive/Shareddrives/Hackathon/AMOC/tok.pickle', mode='wb') as handle:\n",
        "    pickle.dump(tok, handle, protocol = pickle.HIGHEST_PROTOCOL)\n",
        "\n",
        "with open('/content/drive/Shareddrives/Hackathon/AMOC/tok.pickle',mode='rb') as handle:\n",
        "    tok = pickle.load(handle)"
      ],
      "execution_count": 133,
      "outputs": []
    },
    {
      "cell_type": "code",
      "metadata": {
        "colab": {
          "base_uri": "https://localhost:8080/"
        },
        "id": "KqN-29TE1LBZ",
        "outputId": "dd90c8d8-5a75-4c14-891a-5a2dcb8e6bfa"
      },
      "source": [
        "sequences_matrix.shape"
      ],
      "execution_count": 134,
      "outputs": [
        {
          "output_type": "execute_result",
          "data": {
            "text/plain": [
              "(80000, 1000)"
            ]
          },
          "metadata": {
            "tags": []
          },
          "execution_count": 134
        }
      ]
    },
    {
      "cell_type": "code",
      "metadata": {
        "id": "bA9gppdGcXTC"
      },
      "source": [
        "from sklearn.model_selection import train_test_split\n",
        "X_train, X_test, Y_train, Y_test = train_test_split(sequences_matrix, output, test_size=0.3, random_state=2)"
      ],
      "execution_count": null,
      "outputs": []
    },
    {
      "cell_type": "code",
      "metadata": {
        "colab": {
          "base_uri": "https://localhost:8080/"
        },
        "id": "8434dq-IeZzI",
        "outputId": "d1052348-f6c9-4498-917b-6b9e14602c0f"
      },
      "source": [
        "X_test"
      ],
      "execution_count": null,
      "outputs": [
        {
          "output_type": "execute_result",
          "data": {
            "text/plain": [
              "array([[   0,    0,    0, ...,  440,  126,    2],\n",
              "       [   0,    0,    0, ...,    8,  459,  122],\n",
              "       [   0,    0,    0, ...,    0,    0,    0],\n",
              "       ...,\n",
              "       [   0,    0,    0, ..., 1543,   37,  515],\n",
              "       [   0,    0,    0, ...,    0,  270,  213],\n",
              "       [   0,    0,    0, ...,  546,   50, 1598]], dtype=int32)"
            ]
          },
          "metadata": {
            "tags": []
          },
          "execution_count": 38
        }
      ]
    },
    {
      "cell_type": "code",
      "metadata": {
        "id": "ymQWJitgcg7J"
      },
      "source": [
        "def tensorflow_based_model():\n",
        "    inputs = Input(name='inputs',shape=[max_len])\n",
        "    layer = Embedding(2000,50,input_length=max_len)(inputs) \n",
        "    layer = LSTM(64)(layer)\n",
        "    layer = Dense(256,name='FC1')(layer) \n",
        "    layer = Activation('relu')(layer) \n",
        "    layer = Dropout(0.5)(layer) \n",
        "    layer = Dense(1,name='out_layer')(layer) \n",
        "    layer = Activation('sigmoid')(layer) \n",
        "    model = Model(inputs=inputs,outputs=layer) \n",
        "    return model "
      ],
      "execution_count": null,
      "outputs": []
    },
    {
      "cell_type": "code",
      "metadata": {
        "id": "htbbHppUc34L"
      },
      "source": [
        "model = tensorflow_based_model() \n",
        "model.compile(loss='binary_crossentropy',optimizer=RMSprop(),metrics=['accuracy'])  "
      ],
      "execution_count": null,
      "outputs": []
    },
    {
      "cell_type": "code",
      "metadata": {
        "id": "bf-6TwyEc623",
        "colab": {
          "base_uri": "https://localhost:8080/"
        },
        "outputId": "57b7f687-4a1d-459d-c3e9-3e49e84246f2"
      },
      "source": [
        "history=model.fit(X_train,Y_train,batch_size=80,epochs=6, validation_split=0.1)\n",
        "print('Training finished !!')\n",
        "\n"
      ],
      "execution_count": null,
      "outputs": [
        {
          "output_type": "stream",
          "text": [
            "Epoch 1/6\n",
            "630/630 [==============================] - 522s 824ms/step - loss: 0.5881 - accuracy: 0.6765 - val_loss: 0.5123 - val_accuracy: 0.7471\n",
            "Epoch 2/6\n",
            "630/630 [==============================] - 516s 820ms/step - loss: 0.5043 - accuracy: 0.7559 - val_loss: 0.5109 - val_accuracy: 0.7434\n",
            "Epoch 3/6\n",
            "630/630 [==============================] - 516s 819ms/step - loss: 0.4975 - accuracy: 0.7598 - val_loss: 0.5019 - val_accuracy: 0.7520\n",
            "Epoch 4/6\n",
            "630/630 [==============================] - 517s 821ms/step - loss: 0.4851 - accuracy: 0.7696 - val_loss: 0.5023 - val_accuracy: 0.7513\n",
            "Epoch 5/6\n",
            "630/630 [==============================] - 517s 821ms/step - loss: 0.4778 - accuracy: 0.7723 - val_loss: 0.5005 - val_accuracy: 0.7545\n",
            "Epoch 6/6\n",
            "630/630 [==============================] - 516s 819ms/step - loss: 0.4701 - accuracy: 0.7741 - val_loss: 0.4971 - val_accuracy: 0.7591\n",
            "Training finished !!\n"
          ],
          "name": "stdout"
        }
      ]
    },
    {
      "cell_type": "code",
      "metadata": {
        "id": "Hl9CLhesd0Kw",
        "colab": {
          "base_uri": "https://localhost:8080/",
          "height": 163
        },
        "outputId": "25056a3f-a3ba-4b60-f2f0-57d405135e2d"
      },
      "source": [
        "# model.save('my_model.h5')"
      ],
      "execution_count": 135,
      "outputs": [
        {
          "output_type": "error",
          "ename": "NameError",
          "evalue": "ignored",
          "traceback": [
            "\u001b[0;31m---------------------------------------------------------------------------\u001b[0m",
            "\u001b[0;31mNameError\u001b[0m                                 Traceback (most recent call last)",
            "\u001b[0;32m<ipython-input-135-ef0fa6b69d60>\u001b[0m in \u001b[0;36m<module>\u001b[0;34m()\u001b[0m\n\u001b[0;32m----> 1\u001b[0;31m \u001b[0mmodel\u001b[0m\u001b[0;34m.\u001b[0m\u001b[0msave\u001b[0m\u001b[0;34m(\u001b[0m\u001b[0;34m'my_model.h5'\u001b[0m\u001b[0;34m)\u001b[0m\u001b[0;34m\u001b[0m\u001b[0;34m\u001b[0m\u001b[0m\n\u001b[0m",
            "\u001b[0;31mNameError\u001b[0m: name 'model' is not defined"
          ]
        }
      ]
    },
    {
      "cell_type": "code",
      "metadata": {
        "id": "v-AK7xexc9D6"
      },
      "source": [
        "accr1 = model.evaluate(X_test,Y_test) #we are starting to test the model here"
      ],
      "execution_count": null,
      "outputs": []
    },
    {
      "cell_type": "code",
      "metadata": {
        "id": "fJWuTYoObs2G"
      },
      "source": [
        "y_pred=model.predict(X_test)"
      ],
      "execution_count": null,
      "outputs": []
    },
    {
      "cell_type": "code",
      "metadata": {
        "id": "gICZxBHedAfB"
      },
      "source": [
        "y_pred = model.predict(X_test) #getting predictions on the trained model\n",
        "y_pred = (y_pred > 0.5) "
      ],
      "execution_count": null,
      "outputs": []
    },
    {
      "cell_type": "code",
      "metadata": {
        "id": "pVTRGUkjFJ5t"
      },
      "source": [
        "y_pred"
      ],
      "execution_count": null,
      "outputs": []
    },
    {
      "cell_type": "code",
      "metadata": {
        "id": "yqIiAtoxk90m",
        "colab": {
          "base_uri": "https://localhost:8080/"
        },
        "outputId": "5b79eb82-0946-4931-b0f3-be003bf39f83"
      },
      "source": [
        "nltk.download('punkt')\n",
        "def cleaning_message(sample_message):\n",
        "  sample_message=sample_message.str.lower()\n",
        "  # print(sample_message)\n",
        "  sample_message=sample_message.apply(lambda text: cleaning_stopwords(text))\n",
        "  # print(sample_message)\n",
        "  sample_message=sample_message.apply(lambda x: cleaning_punctuations(x))\n",
        "  # print(sample_message)\n",
        "  sample_message=sample_message.apply(lambda x: cleaning_URLs(x))\n",
        "  # print(sample_message)\n",
        "  sample_message=sample_message.apply(lambda x: cleaning_numbers(x))\n",
        "  # print(sample_message)\n",
        "  sample_message=sample_message.apply(tokenizer.tokenize)\n",
        "  # print(sample_message)\n",
        "  sample_message=sample_message.apply(lambda x: stemming_on_text(x))\n",
        "  # print(sample_message)\n",
        "  sample_message=sample_message.apply(lambda x: lemmatizer_on_text(x))\n",
        "  # print(sample_message)\n",
        "  return sample_message"
      ],
      "execution_count": 140,
      "outputs": [
        {
          "output_type": "stream",
          "text": [
            "[nltk_data] Downloading package punkt to /root/nltk_data...\n",
            "[nltk_data]   Unzipping tokenizers/punkt.zip.\n"
          ],
          "name": "stdout"
        }
      ]
    },
    {
      "cell_type": "code",
      "metadata": {
        "id": "9TDhc0eIuBLM"
      },
      "source": [
        "import numpy as np\n",
        "import tensorflow as tf\n",
        "from tensorflow import keras\n",
        "\n",
        "MY_model = keras.models.load_model('/content/drive/Shareddrives/Hackathon/AMOC/my_model.h5')"
      ],
      "execution_count": 136,
      "outputs": []
    },
    {
      "cell_type": "code",
      "metadata": {
        "id": "nxaOkeJhLv5l"
      },
      "source": [
        "EMO_UNICODE = {\n",
        "    u':angry:': u'\\U0001F620', # angry\n",
        "    u':very angry: ': u'\\U0001F47F', #angry face with horns\n",
        "    u':suprised: ': u'\\U0001F627',\n",
        "    u':yellow love: ': u'\\U0001F49B', # yellow_heart\n",
        "    u':worried:': u'\\U0001F61F',\n",
        "    u':winking face:': u'\\U0001F609',\n",
        "    u':shocked:': u'\\U0001F640', #weary cat face\n",
        "    u':waving hand:': u'\\U0001F44B',#waving hand\n",
        "    u':warning:': u'\\U000026A0',\n",
        "    u':unamused face:': u'\\U0001F612',\n",
        "    u':tired face:': u'\\U0001F62B',\n",
        "    u':good:': u'\\U0001F44D',#thumbs_up\n",
        "    u':upset:': u'\\U0001F44E',\n",
        "    u':smiling cat face with heart eyes:': u'\\U0001F63B',\n",
        "    u':smiling cat face with open mouth:': u'\\U0001F63A',\n",
        "    u':smiling face:': u'\\U0000263A',\n",
        "    u':smiling face with halo:': u'\\U0001F607',\n",
        "    u':smiling face with heart-eyes:': u'\\U0001F60D',\n",
        "    u':smiling face with horns:': u'\\U0001F608',\n",
        "    u':smiling face with open_mouth:': u'\\U0001F603',\n",
        "    u':smiling face with open mouth closed eyes:': u'\\U0001F606',\n",
        "    u':smiling face with open mouth & cold sweat:': u'\\U0001F605',\n",
        "    u':smiling face with open mouth & smiling eyes:': u'\\U0001F604',\n",
        "    u':smiling face with smiling eyes:': u'\\U0001F60A',\n",
        "    u':pig face:': u'\\U0001F437',\n",
        "    u':person gesturing NO:': u'\\U0001F645',\n",
        "    u':person gesturing OK:': u'\\U0001F646',\n",
        "    u':person frowning:': u'\\U0001F64D',\n",
        "    u':face blowing a kiss:': u'\\U0001F618',\n",
        "    u':face savouring delicious_food:': u'\\U0001F60B',\n",
        "    u':face screaming in fear:': u'\\U0001F631',\n",
        "    u':face with cold sweat:': u'\\U0001F613',\n",
        "    u':face with head bandage:': u'\\U0001F915',\n",
        "    u':face with medical mask:': u'\\U0001F637',\n",
        "    u':face with open mouth:': u'\\U0001F62E',\n",
        "    u':face with open mouth & cold sweat:': u'\\U0001F630',\n",
        "    u':face with rolling eyes:': u'\\U0001F644',\n",
        "    u':face with steam from nose:': u'\\U0001F624',\n",
        "    u':face with stuck out tongue:': u'\\U0001F61B',\n",
        "    u':face with stuck out tongue & closed eyes:': u'\\U0001F61D',\n",
        "    u':face with stuck out tongue & winking eye:': u'\\U0001F61C',\n",
        "    u':face with tears of joy:': u'\\U0001F602',\n",
        "    u':face with thermometer:': u'\\U0001F912',\n",
        "    u':face without mouth:': u'\\U0001F636',\n",
        "    u':disappointed face:': u'\\U0001F61E',\n",
        "    u':disappointed but relieved face:': u'\\U0001F625',\n",
        "    u':hopefull:': u'\\U0001F91E', # crossed fingers\n",
        "    u':confused face:': u'\\U0001F615',\n",
        "    u':appreciate:': u'\\U0001F44F', #clapping hands\n",
        "    u':blue heart:': u'\\U0001F499',\n",
        "    u':astonished face:': u'\\U0001F632',\n",
        "    \n",
        "}\n",
        "\n",
        "UNICODE_EMO = {v: k for k, v in EMO_UNICODE.items()}"
      ],
      "execution_count": 238,
      "outputs": []
    },
    {
      "cell_type": "code",
      "metadata": {
        "id": "vWMny98ALvyx"
      },
      "source": [
        "def convert_emojis(text):\n",
        "    for emot in UNICODE_EMO:\n",
        "        text = re.sub(r'('+emot+')', \" \".join(UNICODE_EMO[emot].replace(\",\",\" \").replace(\":\",\" \").split()), text)\n",
        "    return text"
      ],
      "execution_count": 239,
      "outputs": []
    },
    {
      "cell_type": "code",
      "metadata": {
        "id": "7rkUBwK4Lvrg"
      },
      "source": [
        "def remove_emoji(text):\n",
        "    emoji_pattern = re.compile(\"[\"\n",
        "                           u\"\\U0001F600-\\U0001F64F\"  # emoticons\n",
        "                           u\"\\U0001F300-\\U0001F5FF\"  # symbols & pictographs\n",
        "                           u\"\\U0001F680-\\U0001F6FF\"  # transport & map symbols\n",
        "                           u\"\\U0001F1E0-\\U0001F1FF\"  # flags (iOS)\n",
        "                           u\"\\U00002702-\\U000027B0\"\n",
        "                           u\"\\U000024C2-\\U0001F251\"\n",
        "                           \"]+\", flags=re.UNICODE)\n",
        "    return emoji_pattern.sub(r'', text)\n"
      ],
      "execution_count": 240,
      "outputs": []
    },
    {
      "cell_type": "code",
      "metadata": {
        "id": "9chr3qQFuB8S",
        "colab": {
          "base_uri": "https://localhost:8080/",
          "height": 35
        },
        "outputId": "67ccea5d-851f-44bc-b077-12de3986b636"
      },
      "source": [
        "sample_message=\" i am feeling upset 👿🚕\"\n",
        "sample_message=convert_emojis(sample_message)\n",
        "sample_message=remove_emoji(sample_message)\n",
        "sample_message"
      ],
      "execution_count": 244,
      "outputs": [
        {
          "output_type": "execute_result",
          "data": {
            "application/vnd.google.colaboratory.intrinsic+json": {
              "type": "string"
            },
            "text/plain": [
              "' i am feeling upset very angry'"
            ]
          },
          "metadata": {
            "tags": []
          },
          "execution_count": 244
        }
      ]
    },
    {
      "cell_type": "code",
      "metadata": {
        "id": "iggSAu-yuBmL",
        "colab": {
          "base_uri": "https://localhost:8080/"
        },
        "outputId": "15c2a00b-b73a-4b84-9018-4d52d5157a3b"
      },
      "source": [
        "import pandas as pd\n",
        "  \n",
        "df = pd.DataFrame({\n",
        "    'text': [sample_message]\n",
        "})\n",
        "\n",
        "test = df['text']\n",
        "test"
      ],
      "execution_count": 245,
      "outputs": [
        {
          "output_type": "execute_result",
          "data": {
            "text/plain": [
              "0     i am feeling upset very angry\n",
              "Name: text, dtype: object"
            ]
          },
          "metadata": {
            "tags": []
          },
          "execution_count": 245
        }
      ]
    },
    {
      "cell_type": "code",
      "metadata": {
        "colab": {
          "base_uri": "https://localhost:8080/",
          "height": 35
        },
        "id": "6ccJOqInBHds",
        "outputId": "bdca4772-6057-4446-db96-6524b0d3543a"
      },
      "source": [
        "test=cleaning_message(test)\n",
        "sample_message"
      ],
      "execution_count": 246,
      "outputs": [
        {
          "output_type": "execute_result",
          "data": {
            "application/vnd.google.colaboratory.intrinsic+json": {
              "type": "string"
            },
            "text/plain": [
              "' i am feeling upset very angry'"
            ]
          },
          "metadata": {
            "tags": []
          },
          "execution_count": 246
        }
      ]
    },
    {
      "cell_type": "code",
      "metadata": {
        "id": "EB6hUCZqzaRR"
      },
      "source": [
        "tok.fit_on_texts(test)\n",
        "sequences = tok.texts_to_sequences(test)\n",
        "sequences_matrix = sequence.pad_sequences(sequences,maxlen=max_len)"
      ],
      "execution_count": 247,
      "outputs": []
    },
    {
      "cell_type": "code",
      "metadata": {
        "id": "BGlM8TEyDRgd"
      },
      "source": [
        "y_bar=MY_model.predict(sequences_matrix)\n",
        "y_bar = (y_bar > 0.5) "
      ],
      "execution_count": 248,
      "outputs": []
    },
    {
      "cell_type": "code",
      "metadata": {
        "colab": {
          "base_uri": "https://localhost:8080/"
        },
        "id": "hePTxc4IDiYC",
        "outputId": "a1252815-147f-4a6a-98c0-1e7e709a4f75"
      },
      "source": [
        "y_bar"
      ],
      "execution_count": 249,
      "outputs": [
        {
          "output_type": "execute_result",
          "data": {
            "text/plain": [
              "array([[False]])"
            ]
          },
          "metadata": {
            "tags": []
          },
          "execution_count": 249
        }
      ]
    },
    {
      "cell_type": "code",
      "metadata": {
        "id": "bRItID-wDjoL"
      },
      "source": [
        ""
      ],
      "execution_count": 164,
      "outputs": []
    }
  ]
}