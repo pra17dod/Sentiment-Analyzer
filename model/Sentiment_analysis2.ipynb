{
  "nbformat": 4,
  "nbformat_minor": 0,
  "metadata": {
    "colab": {
      "name": "Sentiment_analysis.ipynb",
      "provenance": [],
      "collapsed_sections": [],
      "toc_visible": true
    },
    "kernelspec": {
      "display_name": "Python 3",
      "name": "python3"
    },
    "language_info": {
      "name": "python"
    }
  },
  "cells": [
    {
      "cell_type": "code",
      "metadata": {
        "id": "t-0tjCVw0kHR"
      },
      "source": [
        "import numpy as np \n",
        "import pandas as pd "
      ],
      "execution_count": 2,
      "outputs": []
    },
    {
      "cell_type": "code",
      "metadata": {
        "colab": {
          "base_uri": "https://localhost:8080/"
        },
        "id": "aZeYckl1NV8B",
        "outputId": "67802f55-bea7-4c6e-f3b7-47ee66350376"
      },
      "source": [
        "from google.colab import drive\n",
        "drive.mount('/content/drive')"
      ],
      "execution_count": 3,
      "outputs": [
        {
          "output_type": "stream",
          "text": [
            "Mounted at /content/drive\n"
          ],
          "name": "stdout"
        }
      ]
    },
    {
      "cell_type": "code",
      "metadata": {
        "colab": {
          "base_uri": "https://localhost:8080/"
        },
        "id": "zi2SNbalNhBU",
        "outputId": "d7595d6d-0edb-4ee1-9277-8c1f8c9148f5"
      },
      "source": [
        "!unzip /content/drive/Shareddrives/Hackathon/AMOC/sentiment140.zip -d /content/\n",
        "!mv /content/'training.1600000.processed.noemoticon.csv' /content/dataset.csv"
      ],
      "execution_count": 4,
      "outputs": [
        {
          "output_type": "stream",
          "text": [
            "Archive:  /content/drive/Shareddrives/Hackathon/AMOC/sentiment140.zip\n",
            "  inflating: /content/training.1600000.processed.noemoticon.csv  \n"
          ],
          "name": "stdout"
        }
      ]
    },
    {
      "cell_type": "markdown",
      "metadata": {
        "id": "dI7QTXffMTAB"
      },
      "source": [
        "# Loading the Dataset, We use engine=python as loading was giving error ( not able to read large sentences ) "
      ]
    },
    {
      "cell_type": "code",
      "metadata": {
        "id": "zbrcLRfZCV3o"
      },
      "source": [
        "data=pd.read_csv(\"/content/dataset.csv\", encoding = \"ISO-8859-1\", engine=\"python\")"
      ],
      "execution_count": null,
      "outputs": []
    },
    {
      "cell_type": "code",
      "metadata": {
        "colab": {
          "base_uri": "https://localhost:8080/",
          "height": 221
        },
        "id": "gkGxxwtgOAER",
        "outputId": "2bbae3f5-7086-4f15-e195-fc610d9cc8c4"
      },
      "source": [
        "data.tail(5)"
      ],
      "execution_count": null,
      "outputs": [
        {
          "output_type": "execute_result",
          "data": {
            "text/html": [
              "<div>\n",
              "<style scoped>\n",
              "    .dataframe tbody tr th:only-of-type {\n",
              "        vertical-align: middle;\n",
              "    }\n",
              "\n",
              "    .dataframe tbody tr th {\n",
              "        vertical-align: top;\n",
              "    }\n",
              "\n",
              "    .dataframe thead th {\n",
              "        text-align: right;\n",
              "    }\n",
              "</style>\n",
              "<table border=\"1\" class=\"dataframe\">\n",
              "  <thead>\n",
              "    <tr style=\"text-align: right;\">\n",
              "      <th></th>\n",
              "      <th>0</th>\n",
              "      <th>1467810369</th>\n",
              "      <th>Mon Apr 06 22:19:45 PDT 2009</th>\n",
              "      <th>NO_QUERY</th>\n",
              "      <th>_TheSpecialOne_</th>\n",
              "      <th>@switchfoot http://twitpic.com/2y1zl - Awww, that's a bummer.  You shoulda got David Carr of Third Day to do it. ;D</th>\n",
              "    </tr>\n",
              "  </thead>\n",
              "  <tbody>\n",
              "    <tr>\n",
              "      <th>1599994</th>\n",
              "      <td>4</td>\n",
              "      <td>2193601966</td>\n",
              "      <td>Tue Jun 16 08:40:49 PDT 2009</td>\n",
              "      <td>NO_QUERY</td>\n",
              "      <td>AmandaMarie1028</td>\n",
              "      <td>Just woke up. Having no school is the best fee...</td>\n",
              "    </tr>\n",
              "    <tr>\n",
              "      <th>1599995</th>\n",
              "      <td>4</td>\n",
              "      <td>2193601969</td>\n",
              "      <td>Tue Jun 16 08:40:49 PDT 2009</td>\n",
              "      <td>NO_QUERY</td>\n",
              "      <td>TheWDBoards</td>\n",
              "      <td>TheWDB.com - Very cool to hear old Walt interv...</td>\n",
              "    </tr>\n",
              "    <tr>\n",
              "      <th>1599996</th>\n",
              "      <td>4</td>\n",
              "      <td>2193601991</td>\n",
              "      <td>Tue Jun 16 08:40:49 PDT 2009</td>\n",
              "      <td>NO_QUERY</td>\n",
              "      <td>bpbabe</td>\n",
              "      <td>Are you ready for your MoJo Makeover? Ask me f...</td>\n",
              "    </tr>\n",
              "    <tr>\n",
              "      <th>1599997</th>\n",
              "      <td>4</td>\n",
              "      <td>2193602064</td>\n",
              "      <td>Tue Jun 16 08:40:49 PDT 2009</td>\n",
              "      <td>NO_QUERY</td>\n",
              "      <td>tinydiamondz</td>\n",
              "      <td>Happy 38th Birthday to my boo of alll time!!! ...</td>\n",
              "    </tr>\n",
              "    <tr>\n",
              "      <th>1599998</th>\n",
              "      <td>4</td>\n",
              "      <td>2193602129</td>\n",
              "      <td>Tue Jun 16 08:40:50 PDT 2009</td>\n",
              "      <td>NO_QUERY</td>\n",
              "      <td>RyanTrevMorris</td>\n",
              "      <td>happy #charitytuesday @theNSPCC @SparksCharity...</td>\n",
              "    </tr>\n",
              "  </tbody>\n",
              "</table>\n",
              "</div>"
            ],
            "text/plain": [
              "         0  ...  @switchfoot http://twitpic.com/2y1zl - Awww, that's a bummer.  You shoulda got David Carr of Third Day to do it. ;D\n",
              "1599994  4  ...  Just woke up. Having no school is the best fee...                                                                  \n",
              "1599995  4  ...  TheWDB.com - Very cool to hear old Walt interv...                                                                  \n",
              "1599996  4  ...  Are you ready for your MoJo Makeover? Ask me f...                                                                  \n",
              "1599997  4  ...  Happy 38th Birthday to my boo of alll time!!! ...                                                                  \n",
              "1599998  4  ...  happy #charitytuesday @theNSPCC @SparksCharity...                                                                  \n",
              "\n",
              "[5 rows x 6 columns]"
            ]
          },
          "metadata": {
            "tags": []
          },
          "execution_count": 8
        }
      ]
    },
    {
      "cell_type": "code",
      "metadata": {
        "colab": {
          "base_uri": "https://localhost:8080/",
          "height": 221
        },
        "id": "aGeEJjal1Dus",
        "outputId": "1d672a1c-7114-497e-dca1-93a96bbcef14"
      },
      "source": [
        "\n",
        "\n",
        "data.head(5)"
      ],
      "execution_count": null,
      "outputs": [
        {
          "output_type": "execute_result",
          "data": {
            "text/html": [
              "<div>\n",
              "<style scoped>\n",
              "    .dataframe tbody tr th:only-of-type {\n",
              "        vertical-align: middle;\n",
              "    }\n",
              "\n",
              "    .dataframe tbody tr th {\n",
              "        vertical-align: top;\n",
              "    }\n",
              "\n",
              "    .dataframe thead th {\n",
              "        text-align: right;\n",
              "    }\n",
              "</style>\n",
              "<table border=\"1\" class=\"dataframe\">\n",
              "  <thead>\n",
              "    <tr style=\"text-align: right;\">\n",
              "      <th></th>\n",
              "      <th>0</th>\n",
              "      <th>1467810369</th>\n",
              "      <th>Mon Apr 06 22:19:45 PDT 2009</th>\n",
              "      <th>NO_QUERY</th>\n",
              "      <th>_TheSpecialOne_</th>\n",
              "      <th>@switchfoot http://twitpic.com/2y1zl - Awww, that's a bummer.  You shoulda got David Carr of Third Day to do it. ;D</th>\n",
              "    </tr>\n",
              "  </thead>\n",
              "  <tbody>\n",
              "    <tr>\n",
              "      <th>0</th>\n",
              "      <td>0</td>\n",
              "      <td>1467810672</td>\n",
              "      <td>Mon Apr 06 22:19:49 PDT 2009</td>\n",
              "      <td>NO_QUERY</td>\n",
              "      <td>scotthamilton</td>\n",
              "      <td>is upset that he can't update his Facebook by ...</td>\n",
              "    </tr>\n",
              "    <tr>\n",
              "      <th>1</th>\n",
              "      <td>0</td>\n",
              "      <td>1467810917</td>\n",
              "      <td>Mon Apr 06 22:19:53 PDT 2009</td>\n",
              "      <td>NO_QUERY</td>\n",
              "      <td>mattycus</td>\n",
              "      <td>@Kenichan I dived many times for the ball. Man...</td>\n",
              "    </tr>\n",
              "    <tr>\n",
              "      <th>2</th>\n",
              "      <td>0</td>\n",
              "      <td>1467811184</td>\n",
              "      <td>Mon Apr 06 22:19:57 PDT 2009</td>\n",
              "      <td>NO_QUERY</td>\n",
              "      <td>ElleCTF</td>\n",
              "      <td>my whole body feels itchy and like its on fire</td>\n",
              "    </tr>\n",
              "    <tr>\n",
              "      <th>3</th>\n",
              "      <td>0</td>\n",
              "      <td>1467811193</td>\n",
              "      <td>Mon Apr 06 22:19:57 PDT 2009</td>\n",
              "      <td>NO_QUERY</td>\n",
              "      <td>Karoli</td>\n",
              "      <td>@nationwideclass no, it's not behaving at all....</td>\n",
              "    </tr>\n",
              "    <tr>\n",
              "      <th>4</th>\n",
              "      <td>0</td>\n",
              "      <td>1467811372</td>\n",
              "      <td>Mon Apr 06 22:20:00 PDT 2009</td>\n",
              "      <td>NO_QUERY</td>\n",
              "      <td>joy_wolf</td>\n",
              "      <td>@Kwesidei not the whole crew</td>\n",
              "    </tr>\n",
              "  </tbody>\n",
              "</table>\n",
              "</div>"
            ],
            "text/plain": [
              "   0  ...  @switchfoot http://twitpic.com/2y1zl - Awww, that's a bummer.  You shoulda got David Carr of Third Day to do it. ;D\n",
              "0  0  ...  is upset that he can't update his Facebook by ...                                                                  \n",
              "1  0  ...  @Kenichan I dived many times for the ball. Man...                                                                  \n",
              "2  0  ...    my whole body feels itchy and like its on fire                                                                   \n",
              "3  0  ...  @nationwideclass no, it's not behaving at all....                                                                  \n",
              "4  0  ...                      @Kwesidei not the whole crew                                                                   \n",
              "\n",
              "[5 rows x 6 columns]"
            ]
          },
          "metadata": {
            "tags": []
          },
          "execution_count": 9
        }
      ]
    },
    {
      "cell_type": "markdown",
      "metadata": {
        "id": "Nh7uFFIHO9Kw"
      },
      "source": [
        "# modifying data columns for better understanding"
      ]
    },
    {
      "cell_type": "code",
      "metadata": {
        "id": "QGmLH1DU36z1"
      },
      "source": [
        "data.columns = [\"label\", \"time\", \"date\", \"query\", \"username\", \"text\"]\n"
      ],
      "execution_count": null,
      "outputs": []
    },
    {
      "cell_type": "code",
      "metadata": {
        "colab": {
          "base_uri": "https://localhost:8080/",
          "height": 419
        },
        "id": "5N9dUBB34MY0",
        "outputId": "7ff205ea-c2b8-4ea8-b563-635f15fd6fea"
      },
      "source": [
        "data"
      ],
      "execution_count": null,
      "outputs": [
        {
          "output_type": "execute_result",
          "data": {
            "text/html": [
              "<div>\n",
              "<style scoped>\n",
              "    .dataframe tbody tr th:only-of-type {\n",
              "        vertical-align: middle;\n",
              "    }\n",
              "\n",
              "    .dataframe tbody tr th {\n",
              "        vertical-align: top;\n",
              "    }\n",
              "\n",
              "    .dataframe thead th {\n",
              "        text-align: right;\n",
              "    }\n",
              "</style>\n",
              "<table border=\"1\" class=\"dataframe\">\n",
              "  <thead>\n",
              "    <tr style=\"text-align: right;\">\n",
              "      <th></th>\n",
              "      <th>label</th>\n",
              "      <th>time</th>\n",
              "      <th>date</th>\n",
              "      <th>query</th>\n",
              "      <th>username</th>\n",
              "      <th>text</th>\n",
              "    </tr>\n",
              "  </thead>\n",
              "  <tbody>\n",
              "    <tr>\n",
              "      <th>0</th>\n",
              "      <td>0</td>\n",
              "      <td>1467810672</td>\n",
              "      <td>Mon Apr 06 22:19:49 PDT 2009</td>\n",
              "      <td>NO_QUERY</td>\n",
              "      <td>scotthamilton</td>\n",
              "      <td>is upset that he can't update his Facebook by ...</td>\n",
              "    </tr>\n",
              "    <tr>\n",
              "      <th>1</th>\n",
              "      <td>0</td>\n",
              "      <td>1467810917</td>\n",
              "      <td>Mon Apr 06 22:19:53 PDT 2009</td>\n",
              "      <td>NO_QUERY</td>\n",
              "      <td>mattycus</td>\n",
              "      <td>@Kenichan I dived many times for the ball. Man...</td>\n",
              "    </tr>\n",
              "    <tr>\n",
              "      <th>2</th>\n",
              "      <td>0</td>\n",
              "      <td>1467811184</td>\n",
              "      <td>Mon Apr 06 22:19:57 PDT 2009</td>\n",
              "      <td>NO_QUERY</td>\n",
              "      <td>ElleCTF</td>\n",
              "      <td>my whole body feels itchy and like its on fire</td>\n",
              "    </tr>\n",
              "    <tr>\n",
              "      <th>3</th>\n",
              "      <td>0</td>\n",
              "      <td>1467811193</td>\n",
              "      <td>Mon Apr 06 22:19:57 PDT 2009</td>\n",
              "      <td>NO_QUERY</td>\n",
              "      <td>Karoli</td>\n",
              "      <td>@nationwideclass no, it's not behaving at all....</td>\n",
              "    </tr>\n",
              "    <tr>\n",
              "      <th>4</th>\n",
              "      <td>0</td>\n",
              "      <td>1467811372</td>\n",
              "      <td>Mon Apr 06 22:20:00 PDT 2009</td>\n",
              "      <td>NO_QUERY</td>\n",
              "      <td>joy_wolf</td>\n",
              "      <td>@Kwesidei not the whole crew</td>\n",
              "    </tr>\n",
              "    <tr>\n",
              "      <th>...</th>\n",
              "      <td>...</td>\n",
              "      <td>...</td>\n",
              "      <td>...</td>\n",
              "      <td>...</td>\n",
              "      <td>...</td>\n",
              "      <td>...</td>\n",
              "    </tr>\n",
              "    <tr>\n",
              "      <th>1599994</th>\n",
              "      <td>4</td>\n",
              "      <td>2193601966</td>\n",
              "      <td>Tue Jun 16 08:40:49 PDT 2009</td>\n",
              "      <td>NO_QUERY</td>\n",
              "      <td>AmandaMarie1028</td>\n",
              "      <td>Just woke up. Having no school is the best fee...</td>\n",
              "    </tr>\n",
              "    <tr>\n",
              "      <th>1599995</th>\n",
              "      <td>4</td>\n",
              "      <td>2193601969</td>\n",
              "      <td>Tue Jun 16 08:40:49 PDT 2009</td>\n",
              "      <td>NO_QUERY</td>\n",
              "      <td>TheWDBoards</td>\n",
              "      <td>TheWDB.com - Very cool to hear old Walt interv...</td>\n",
              "    </tr>\n",
              "    <tr>\n",
              "      <th>1599996</th>\n",
              "      <td>4</td>\n",
              "      <td>2193601991</td>\n",
              "      <td>Tue Jun 16 08:40:49 PDT 2009</td>\n",
              "      <td>NO_QUERY</td>\n",
              "      <td>bpbabe</td>\n",
              "      <td>Are you ready for your MoJo Makeover? Ask me f...</td>\n",
              "    </tr>\n",
              "    <tr>\n",
              "      <th>1599997</th>\n",
              "      <td>4</td>\n",
              "      <td>2193602064</td>\n",
              "      <td>Tue Jun 16 08:40:49 PDT 2009</td>\n",
              "      <td>NO_QUERY</td>\n",
              "      <td>tinydiamondz</td>\n",
              "      <td>Happy 38th Birthday to my boo of alll time!!! ...</td>\n",
              "    </tr>\n",
              "    <tr>\n",
              "      <th>1599998</th>\n",
              "      <td>4</td>\n",
              "      <td>2193602129</td>\n",
              "      <td>Tue Jun 16 08:40:50 PDT 2009</td>\n",
              "      <td>NO_QUERY</td>\n",
              "      <td>RyanTrevMorris</td>\n",
              "      <td>happy #charitytuesday @theNSPCC @SparksCharity...</td>\n",
              "    </tr>\n",
              "  </tbody>\n",
              "</table>\n",
              "<p>1599999 rows × 6 columns</p>\n",
              "</div>"
            ],
            "text/plain": [
              "         label  ...                                               text\n",
              "0            0  ...  is upset that he can't update his Facebook by ...\n",
              "1            0  ...  @Kenichan I dived many times for the ball. Man...\n",
              "2            0  ...    my whole body feels itchy and like its on fire \n",
              "3            0  ...  @nationwideclass no, it's not behaving at all....\n",
              "4            0  ...                      @Kwesidei not the whole crew \n",
              "...        ...  ...                                                ...\n",
              "1599994      4  ...  Just woke up. Having no school is the best fee...\n",
              "1599995      4  ...  TheWDB.com - Very cool to hear old Walt interv...\n",
              "1599996      4  ...  Are you ready for your MoJo Makeover? Ask me f...\n",
              "1599997      4  ...  Happy 38th Birthday to my boo of alll time!!! ...\n",
              "1599998      4  ...  happy #charitytuesday @theNSPCC @SparksCharity...\n",
              "\n",
              "[1599999 rows x 6 columns]"
            ]
          },
          "metadata": {
            "tags": []
          },
          "execution_count": 11
        }
      ]
    },
    {
      "cell_type": "markdown",
      "metadata": {
        "id": "-M8gYpYMPXDD"
      },
      "source": [
        "# Checking if values are null\n"
      ]
    },
    {
      "cell_type": "code",
      "metadata": {
        "colab": {
          "base_uri": "https://localhost:8080/"
        },
        "id": "nsNORFYyPUfL",
        "outputId": "443be0da-9690-4b55-8d96-c617de9ce7de"
      },
      "source": [
        "data.isnull().sum()"
      ],
      "execution_count": null,
      "outputs": [
        {
          "output_type": "execute_result",
          "data": {
            "text/plain": [
              "label       0\n",
              "time        0\n",
              "date        0\n",
              "query       0\n",
              "username    0\n",
              "text        0\n",
              "dtype: int64"
            ]
          },
          "metadata": {
            "tags": []
          },
          "execution_count": 12
        }
      ]
    },
    {
      "cell_type": "markdown",
      "metadata": {
        "id": "FbW6zAVMKl4a"
      },
      "source": [
        "# Only text and label should be used as conclusion"
      ]
    },
    {
      "cell_type": "code",
      "metadata": {
        "id": "4eobQb0XPgyq"
      },
      "source": [
        "data=data[['label','text']]"
      ],
      "execution_count": null,
      "outputs": []
    },
    {
      "cell_type": "code",
      "metadata": {
        "colab": {
          "base_uri": "https://localhost:8080/"
        },
        "id": "21aQz2RoQqTT",
        "outputId": "e1b93b82-f099-471a-f521-c1cc1fb45013"
      },
      "source": [
        "data['text']=data['text'].str.lower()"
      ],
      "execution_count": null,
      "outputs": [
        {
          "output_type": "stream",
          "text": [
            "/usr/local/lib/python3.7/dist-packages/ipykernel_launcher.py:1: SettingWithCopyWarning: \n",
            "A value is trying to be set on a copy of a slice from a DataFrame.\n",
            "Try using .loc[row_indexer,col_indexer] = value instead\n",
            "\n",
            "See the caveats in the documentation: https://pandas.pydata.org/pandas-docs/stable/user_guide/indexing.html#returning-a-view-versus-a-copy\n",
            "  \"\"\"Entry point for launching an IPython kernel.\n"
          ],
          "name": "stderr"
        }
      ]
    },
    {
      "cell_type": "markdown",
      "metadata": {
        "id": "F55BtcDkLCPB"
      },
      "source": [
        "# We use Nltk library for text analysis\n",
        "Various procedures involved are :-\n",
        "\n",
        "# i) Cleaning DATA\n"
      ]
    },
    {
      "cell_type": "code",
      "metadata": {
        "colab": {
          "base_uri": "https://localhost:8080/"
        },
        "id": "YsLziWhqSaOY",
        "outputId": "6fb503ee-e1ad-47dd-f7eb-87380edca217"
      },
      "source": [
        "import nltk\n",
        "nltk.download('stopwords')\n"
      ],
      "execution_count": null,
      "outputs": [
        {
          "output_type": "stream",
          "text": [
            "[nltk_data] Downloading package stopwords to /root/nltk_data...\n",
            "[nltk_data]   Unzipping corpora/stopwords.zip.\n"
          ],
          "name": "stdout"
        },
        {
          "output_type": "execute_result",
          "data": {
            "text/plain": [
              "True"
            ]
          },
          "metadata": {
            "tags": []
          },
          "execution_count": 15
        }
      ]
    },
    {
      "cell_type": "markdown",
      "metadata": {
        "id": "mQ6IVAcqLyi6"
      },
      "source": [
        "# Importing stop words from nltk "
      ]
    },
    {
      "cell_type": "code",
      "metadata": {
        "colab": {
          "base_uri": "https://localhost:8080/"
        },
        "id": "ejXDEKYiK_sA",
        "outputId": "902749c2-0321-447a-bdef-022ece608824"
      },
      "source": [
        "data.label.value_counts()"
      ],
      "execution_count": null,
      "outputs": [
        {
          "output_type": "execute_result",
          "data": {
            "text/plain": [
              "4    800000\n",
              "0    799999\n",
              "Name: label, dtype: int64"
            ]
          },
          "metadata": {
            "tags": []
          },
          "execution_count": 16
        }
      ]
    },
    {
      "cell_type": "markdown",
      "metadata": {
        "id": "GrAlng5KUTis"
      },
      "source": [
        "# words used as stop words"
      ]
    },
    {
      "cell_type": "code",
      "metadata": {
        "id": "Y-X3n9JALxfK"
      },
      "source": [
        "from nltk.corpus import stopwords\n",
        "stopwords_list = stopwords.words('english')"
      ],
      "execution_count": null,
      "outputs": []
    },
    {
      "cell_type": "markdown",
      "metadata": {
        "id": "-CdyjA8SU21J"
      },
      "source": [
        "FIRST 5 STOPWORDS"
      ]
    },
    {
      "cell_type": "code",
      "metadata": {
        "colab": {
          "base_uri": "https://localhost:8080/"
        },
        "id": "F0-a4nYQTXU3",
        "outputId": "c71f9967-adce-43ed-c24b-d26f3f154186"
      },
      "source": [
        "stopwords_list[0:5]"
      ],
      "execution_count": null,
      "outputs": [
        {
          "output_type": "execute_result",
          "data": {
            "text/plain": [
              "['i', 'me', 'my', 'myself', 'we']"
            ]
          },
          "metadata": {
            "tags": []
          },
          "execution_count": 18
        }
      ]
    },
    {
      "cell_type": "code",
      "metadata": {
        "id": "rVZ3i9riTgu-"
      },
      "source": [
        "data['label'][data['label']==4]=1\n",
        "data_pos = data[data['label'] == 1]\n",
        "data_neg = data[data['label'] == 0]"
      ],
      "execution_count": null,
      "outputs": []
    },
    {
      "cell_type": "code",
      "metadata": {
        "id": "T5UBvq0YU_Tc"
      },
      "source": [
        "data_pos = data_pos.iloc[:int(40000)]\n",
        "data_neg = data_neg.iloc[:int(40000)]"
      ],
      "execution_count": null,
      "outputs": []
    },
    {
      "cell_type": "code",
      "metadata": {
        "id": "YtcxBC1m52Xz"
      },
      "source": [
        "data = pd.concat([data_pos, data_neg])"
      ],
      "execution_count": null,
      "outputs": []
    },
    {
      "cell_type": "markdown",
      "metadata": {
        "id": "sOGrsXOwNmMj"
      },
      "source": [
        "# Removing stopwords from dataset"
      ]
    },
    {
      "cell_type": "code",
      "metadata": {
        "colab": {
          "base_uri": "https://localhost:8080/"
        },
        "id": "IBG8RiKLPhXM",
        "outputId": "ed90c64b-3774-4193-a6cd-749f33756582"
      },
      "source": [
        "STOPWORDS = set(stopwords.words('english'))\n",
        "def cleaning_stopwords(text):\n",
        "    return \" \".join([word for word in str(text).split() if word not in STOPWORDS])\n",
        "data['text'] = data['text'].apply(lambda text: cleaning_stopwords(text))\n",
        "data['text'].head()"
      ],
      "execution_count": null,
      "outputs": [
        {
          "output_type": "execute_result",
          "data": {
            "text/plain": [
              "799999    ['love', 'healthuandpets', 'u', 'guys', 'r', '...\n",
              "800000    ['im', 'meeting', 'one', 'besties', 'tonight',...\n",
              "800001    ['darealsunisakim', 'thanks', 'twitter', 'add'...\n",
              "800002    ['sick', 'really', 'cheap', 'hurts', 'much', '...\n",
              "800003              ['lovesbrooklyn', 'effect', 'everyone']\n",
              "Name: text, dtype: object"
            ]
          },
          "metadata": {
            "tags": []
          },
          "execution_count": 47
        }
      ]
    },
    {
      "cell_type": "markdown",
      "metadata": {
        "id": "5bumCsrMNyMY"
      },
      "source": [
        "# Cleaning and removing punctutions"
      ]
    },
    {
      "cell_type": "code",
      "metadata": {
        "colab": {
          "base_uri": "https://localhost:8080/",
          "height": 35
        },
        "id": "REcnCyroNkNO",
        "outputId": "36589aff-268d-4137-f32f-7b5fb1a8347a"
      },
      "source": [
        "import string\n",
        "english_punctuations = string.punctuation\n",
        "punctuations_list = english_punctuations\n",
        "punctuations_list[0:]"
      ],
      "execution_count": null,
      "outputs": [
        {
          "output_type": "execute_result",
          "data": {
            "application/vnd.google.colaboratory.intrinsic+json": {
              "type": "string"
            },
            "text/plain": [
              "'!\"#$%&\\'()*+,-./:;<=>?@[\\\\]^_`{|}~'"
            ]
          },
          "metadata": {
            "tags": []
          },
          "execution_count": 48
        }
      ]
    },
    {
      "cell_type": "code",
      "metadata": {
        "colab": {
          "base_uri": "https://localhost:8080/"
        },
        "id": "jKIIlpOfTPWl",
        "outputId": "1ffb2a60-6fee-43c8-e9e5-eecc484077fb"
      },
      "source": [
        "def cleaning_punctuations(text):\n",
        "    translator = str.maketrans('', '', punctuations_list)\n",
        "    return text.translate(translator)\n",
        "data['text']= data['text'].apply(lambda x: cleaning_punctuations(x))\n",
        "data['text'].tail()"
      ],
      "execution_count": null,
      "outputs": [
        {
          "output_type": "execute_result",
          "data": {
            "text/plain": [
              "39995    mittec problems literally spent hours cleaning...\n",
              "39996                                              ow head\n",
              "39997    anyway particularly looking foreward labs toda...\n",
              "39998                     allergies insomnia matter reason\n",
              "39999    scottcabal im working evening could daytime su...\n",
              "Name: text, dtype: object"
            ]
          },
          "metadata": {
            "tags": []
          },
          "execution_count": 49
        }
      ]
    },
    {
      "cell_type": "markdown",
      "metadata": {
        "id": "lKfdcGiZQ2R1"
      },
      "source": [
        "# Cleaning and removing URL's"
      ]
    },
    {
      "cell_type": "code",
      "metadata": {
        "colab": {
          "base_uri": "https://localhost:8080/"
        },
        "id": "5T5LsadYSySl",
        "outputId": "b57738ab-dc7a-45b4-a9ab-1f3dbcae9e3f"
      },
      "source": [
        "import re\n",
        "def cleaning_URLs(data):\n",
        "    return re.sub('((www\\.[^\\s]+)|(https?://[^\\s]+))',' ',str(data))\n",
        "data['text'] = data['text'].apply(lambda x: cleaning_URLs(x))\n",
        "data['text'].tail()"
      ],
      "execution_count": null,
      "outputs": [
        {
          "output_type": "execute_result",
          "data": {
            "text/plain": [
              "39995    mittec problems literally spent hours cleaning...\n",
              "39996                                              ow head\n",
              "39997    anyway particularly looking foreward labs toda...\n",
              "39998                     allergies insomnia matter reason\n",
              "39999    scottcabal im working evening could daytime su...\n",
              "Name: text, dtype: object"
            ]
          },
          "metadata": {
            "tags": []
          },
          "execution_count": 50
        }
      ]
    },
    {
      "cell_type": "markdown",
      "metadata": {
        "id": "b_RQuZabVUoy"
      },
      "source": [
        "# Removing Numeric characters"
      ]
    },
    {
      "cell_type": "code",
      "metadata": {
        "colab": {
          "base_uri": "https://localhost:8080/"
        },
        "id": "bKnhjOXKXTWW",
        "outputId": "d54de427-51a3-43b4-c9a9-c6f901595bf6"
      },
      "source": [
        "def cleaning_numbers(data):\n",
        "    return re.sub('[0-9]+', '', data)\n",
        "data['text'] = data['text'].apply(lambda x: cleaning_numbers(x))\n",
        "data['text'].tail()"
      ],
      "execution_count": null,
      "outputs": [
        {
          "output_type": "execute_result",
          "data": {
            "text/plain": [
              "39995    mittec problems literally spent hours cleaning...\n",
              "39996                                              ow head\n",
              "39997    anyway particularly looking foreward labs toda...\n",
              "39998                     allergies insomnia matter reason\n",
              "39999    scottcabal im working evening could daytime su...\n",
              "Name: text, dtype: object"
            ]
          },
          "metadata": {
            "tags": []
          },
          "execution_count": 51
        }
      ]
    },
    {
      "cell_type": "markdown",
      "metadata": {
        "id": "kvrmwdpeYUti"
      },
      "source": [
        "# ii) TOKENIZING \n",
        "Tokenization is the process of converting data into smaller sub parts for better analysis ( Eg: breaking words in sentence)"
      ]
    },
    {
      "cell_type": "code",
      "metadata": {
        "id": "xf7exZqUXyNe"
      },
      "source": [
        "from nltk.tokenize import RegexpTokenizer"
      ],
      "execution_count": null,
      "outputs": []
    },
    {
      "cell_type": "code",
      "metadata": {
        "colab": {
          "base_uri": "https://localhost:8080/",
          "height": 204
        },
        "id": "CzZ4-mv1aqWx",
        "outputId": "76f36b0d-6311-4f99-89ad-5c1b63fd3325"
      },
      "source": [
        "tokenizer = RegexpTokenizer(r'\\w+')\n",
        "data['text'] = data['text'].apply(tokenizer.tokenize)\n",
        "data.head()"
      ],
      "execution_count": null,
      "outputs": [
        {
          "output_type": "execute_result",
          "data": {
            "text/html": [
              "<div>\n",
              "<style scoped>\n",
              "    .dataframe tbody tr th:only-of-type {\n",
              "        vertical-align: middle;\n",
              "    }\n",
              "\n",
              "    .dataframe tbody tr th {\n",
              "        vertical-align: top;\n",
              "    }\n",
              "\n",
              "    .dataframe thead th {\n",
              "        text-align: right;\n",
              "    }\n",
              "</style>\n",
              "<table border=\"1\" class=\"dataframe\">\n",
              "  <thead>\n",
              "    <tr style=\"text-align: right;\">\n",
              "      <th></th>\n",
              "      <th>label</th>\n",
              "      <th>text</th>\n",
              "    </tr>\n",
              "  </thead>\n",
              "  <tbody>\n",
              "    <tr>\n",
              "      <th>799999</th>\n",
              "      <td>1</td>\n",
              "      <td>[love, healthuandpets, u, guys, r, best]</td>\n",
              "    </tr>\n",
              "    <tr>\n",
              "      <th>800000</th>\n",
              "      <td>1</td>\n",
              "      <td>[im, meeting, one, besties, tonight, cant, wai...</td>\n",
              "    </tr>\n",
              "    <tr>\n",
              "      <th>800001</th>\n",
              "      <td>1</td>\n",
              "      <td>[darealsunisakim, thanks, twitter, add, sunisa...</td>\n",
              "    </tr>\n",
              "    <tr>\n",
              "      <th>800002</th>\n",
              "      <td>1</td>\n",
              "      <td>[sick, really, cheap, hurts, much, eat, real, ...</td>\n",
              "    </tr>\n",
              "    <tr>\n",
              "      <th>800003</th>\n",
              "      <td>1</td>\n",
              "      <td>[lovesbrooklyn, effect, everyone]</td>\n",
              "    </tr>\n",
              "  </tbody>\n",
              "</table>\n",
              "</div>"
            ],
            "text/plain": [
              "        label                                               text\n",
              "799999      1           [love, healthuandpets, u, guys, r, best]\n",
              "800000      1  [im, meeting, one, besties, tonight, cant, wai...\n",
              "800001      1  [darealsunisakim, thanks, twitter, add, sunisa...\n",
              "800002      1  [sick, really, cheap, hurts, much, eat, real, ...\n",
              "800003      1                  [lovesbrooklyn, effect, everyone]"
            ]
          },
          "metadata": {
            "tags": []
          },
          "execution_count": 53
        }
      ]
    },
    {
      "cell_type": "markdown",
      "metadata": {
        "id": "Q0C3mE-6a5zL"
      },
      "source": [
        "# iii) Applying Stemming\n",
        "We reduce words to their root form"
      ]
    },
    {
      "cell_type": "code",
      "metadata": {
        "id": "CKs_4v7iax1U"
      },
      "source": [
        "from nltk.stem import PorterStemmer "
      ],
      "execution_count": null,
      "outputs": []
    },
    {
      "cell_type": "code",
      "metadata": {
        "id": "TDakPMu_bVLa"
      },
      "source": [
        "stemer = nltk.PorterStemmer()\n",
        "def stemming_on_text(data):\n",
        "    text = [stemer.stem(word) for word in data]\n",
        "    return data\n",
        "\n",
        "data['text']= data['text'].apply(lambda x: stemming_on_text(x))"
      ],
      "execution_count": null,
      "outputs": []
    },
    {
      "cell_type": "code",
      "metadata": {
        "colab": {
          "base_uri": "https://localhost:8080/",
          "height": 204
        },
        "id": "J7IjLbpSb9zH",
        "outputId": "a4f9c860-de6a-4a8c-b075-b02244373b27"
      },
      "source": [
        "data.head()"
      ],
      "execution_count": null,
      "outputs": [
        {
          "output_type": "execute_result",
          "data": {
            "text/html": [
              "<div>\n",
              "<style scoped>\n",
              "    .dataframe tbody tr th:only-of-type {\n",
              "        vertical-align: middle;\n",
              "    }\n",
              "\n",
              "    .dataframe tbody tr th {\n",
              "        vertical-align: top;\n",
              "    }\n",
              "\n",
              "    .dataframe thead th {\n",
              "        text-align: right;\n",
              "    }\n",
              "</style>\n",
              "<table border=\"1\" class=\"dataframe\">\n",
              "  <thead>\n",
              "    <tr style=\"text-align: right;\">\n",
              "      <th></th>\n",
              "      <th>label</th>\n",
              "      <th>text</th>\n",
              "    </tr>\n",
              "  </thead>\n",
              "  <tbody>\n",
              "    <tr>\n",
              "      <th>799999</th>\n",
              "      <td>1</td>\n",
              "      <td>[love, healthuandpets, u, guys, r, best]</td>\n",
              "    </tr>\n",
              "    <tr>\n",
              "      <th>800000</th>\n",
              "      <td>1</td>\n",
              "      <td>[im, meeting, one, besties, tonight, cant, wai...</td>\n",
              "    </tr>\n",
              "    <tr>\n",
              "      <th>800001</th>\n",
              "      <td>1</td>\n",
              "      <td>[darealsunisakim, thanks, twitter, add, sunisa...</td>\n",
              "    </tr>\n",
              "    <tr>\n",
              "      <th>800002</th>\n",
              "      <td>1</td>\n",
              "      <td>[sick, really, cheap, hurts, much, eat, real, ...</td>\n",
              "    </tr>\n",
              "    <tr>\n",
              "      <th>800003</th>\n",
              "      <td>1</td>\n",
              "      <td>[lovesbrooklyn, effect, everyone]</td>\n",
              "    </tr>\n",
              "  </tbody>\n",
              "</table>\n",
              "</div>"
            ],
            "text/plain": [
              "        label                                               text\n",
              "799999      1           [love, healthuandpets, u, guys, r, best]\n",
              "800000      1  [im, meeting, one, besties, tonight, cant, wai...\n",
              "800001      1  [darealsunisakim, thanks, twitter, add, sunisa...\n",
              "800002      1  [sick, really, cheap, hurts, much, eat, real, ...\n",
              "800003      1                  [lovesbrooklyn, effect, everyone]"
            ]
          },
          "metadata": {
            "tags": []
          },
          "execution_count": 56
        }
      ]
    },
    {
      "cell_type": "markdown",
      "metadata": {
        "id": "LcG7w8yxcSLY"
      },
      "source": [
        "# iv) Applying Lemmatization\n",
        "It is same as stemming but it also looks for dictionary relation while stemming is dependent on part of speech"
      ]
    },
    {
      "cell_type": "code",
      "metadata": {
        "colab": {
          "base_uri": "https://localhost:8080/"
        },
        "id": "jX3YJ4J8hmlD",
        "outputId": "d66ec6c9-8587-412e-e85c-7034337469e6"
      },
      "source": [
        "nltk.download('wordnet')"
      ],
      "execution_count": null,
      "outputs": [
        {
          "output_type": "stream",
          "text": [
            "[nltk_data] Downloading package wordnet to /root/nltk_data...\n",
            "[nltk_data]   Package wordnet is already up-to-date!\n"
          ],
          "name": "stdout"
        },
        {
          "output_type": "execute_result",
          "data": {
            "text/plain": [
              "True"
            ]
          },
          "metadata": {
            "tags": []
          },
          "execution_count": 57
        }
      ]
    },
    {
      "cell_type": "code",
      "metadata": {
        "id": "gOPEm6lTcLKO"
      },
      "source": [
        "lm = nltk.WordNetLemmatizer()\n",
        "def lemmatizer_on_text(data):\n",
        "    text = [lm.lemmatize(word) for word in data]\n",
        "    return data\n",
        "\n",
        "data['text'] = data['text'].apply(lambda x: lemmatizer_on_text(x))"
      ],
      "execution_count": null,
      "outputs": []
    },
    {
      "cell_type": "code",
      "metadata": {
        "colab": {
          "base_uri": "https://localhost:8080/",
          "height": 204
        },
        "id": "n4SMY5gUhuMe",
        "outputId": "79ab71ef-815b-48fe-8c82-3969ed948a98"
      },
      "source": [
        "data.head()"
      ],
      "execution_count": null,
      "outputs": [
        {
          "output_type": "execute_result",
          "data": {
            "text/html": [
              "<div>\n",
              "<style scoped>\n",
              "    .dataframe tbody tr th:only-of-type {\n",
              "        vertical-align: middle;\n",
              "    }\n",
              "\n",
              "    .dataframe tbody tr th {\n",
              "        vertical-align: top;\n",
              "    }\n",
              "\n",
              "    .dataframe thead th {\n",
              "        text-align: right;\n",
              "    }\n",
              "</style>\n",
              "<table border=\"1\" class=\"dataframe\">\n",
              "  <thead>\n",
              "    <tr style=\"text-align: right;\">\n",
              "      <th></th>\n",
              "      <th>label</th>\n",
              "      <th>text</th>\n",
              "    </tr>\n",
              "  </thead>\n",
              "  <tbody>\n",
              "    <tr>\n",
              "      <th>799999</th>\n",
              "      <td>1</td>\n",
              "      <td>[love, healthuandpets, u, guys, r, best]</td>\n",
              "    </tr>\n",
              "    <tr>\n",
              "      <th>800000</th>\n",
              "      <td>1</td>\n",
              "      <td>[im, meeting, one, besties, tonight, cant, wai...</td>\n",
              "    </tr>\n",
              "    <tr>\n",
              "      <th>800001</th>\n",
              "      <td>1</td>\n",
              "      <td>[darealsunisakim, thanks, twitter, add, sunisa...</td>\n",
              "    </tr>\n",
              "    <tr>\n",
              "      <th>800002</th>\n",
              "      <td>1</td>\n",
              "      <td>[sick, really, cheap, hurts, much, eat, real, ...</td>\n",
              "    </tr>\n",
              "    <tr>\n",
              "      <th>800003</th>\n",
              "      <td>1</td>\n",
              "      <td>[lovesbrooklyn, effect, everyone]</td>\n",
              "    </tr>\n",
              "  </tbody>\n",
              "</table>\n",
              "</div>"
            ],
            "text/plain": [
              "        label                                               text\n",
              "799999      1           [love, healthuandpets, u, guys, r, best]\n",
              "800000      1  [im, meeting, one, besties, tonight, cant, wai...\n",
              "800001      1  [darealsunisakim, thanks, twitter, add, sunisa...\n",
              "800002      1  [sick, really, cheap, hurts, much, eat, real, ...\n",
              "800003      1                  [lovesbrooklyn, effect, everyone]"
            ]
          },
          "metadata": {
            "tags": []
          },
          "execution_count": 59
        }
      ]
    },
    {
      "cell_type": "markdown",
      "metadata": {
        "id": "DApMlJzGiZCS"
      },
      "source": [
        "Now data cleaning is done"
      ]
    },
    {
      "cell_type": "code",
      "metadata": {
        "id": "yF66UFvrh9gQ"
      },
      "source": [
        "input=data['text']\n",
        "output=data['label']\n",
        "\n",
        "\n"
      ],
      "execution_count": null,
      "outputs": []
    },
    {
      "cell_type": "code",
      "metadata": {
        "id": "VIw5lLqacBIt"
      },
      "source": [
        "from tensorflow.keras.layers import LSTM, Activation, Dense, Dropout, Input, Embedding\n",
        "from tensorflow.keras.models import Model\n",
        "from tensorflow.keras.optimizers import RMSprop\n",
        "from tensorflow.keras.preprocessing.text import Tokenizer\n",
        "from tensorflow.keras.preprocessing import sequence\n",
        "%matplotlib inline\n",
        "\n",
        "import warnings\n",
        "warnings.filterwarnings(\"ignore\")"
      ],
      "execution_count": null,
      "outputs": []
    },
    {
      "cell_type": "code",
      "metadata": {
        "id": "xDIDS8idtSr1"
      },
      "source": [
        "\n",
        "max_len = 1000\n",
        "tok = Tokenizer(num_words=2000)\n",
        "tok.fit_on_texts(input)\n",
        "sequences = tok.texts_to_sequences(input)\n",
        "sequences_matrix = sequence.pad_sequences(sequences,maxlen=max_len)"
      ],
      "execution_count": null,
      "outputs": []
    },
    {
      "cell_type": "code",
      "metadata": {
        "colab": {
          "base_uri": "https://localhost:8080/"
        },
        "id": "KqN-29TE1LBZ",
        "outputId": "dc6ea8d9-9090-4e28-8800-1a6d37ab091a"
      },
      "source": [
        "sequences_matrix.shape"
      ],
      "execution_count": null,
      "outputs": [
        {
          "output_type": "execute_result",
          "data": {
            "text/plain": [
              "(80000, 1000)"
            ]
          },
          "metadata": {
            "tags": []
          },
          "execution_count": 63
        }
      ]
    },
    {
      "cell_type": "code",
      "metadata": {
        "id": "bA9gppdGcXTC"
      },
      "source": [
        "from sklearn.model_selection import train_test_split\n",
        "X_train, X_test, Y_train, Y_test = train_test_split(sequences_matrix, output, test_size=0.3, random_state=2)"
      ],
      "execution_count": null,
      "outputs": []
    },
    {
      "cell_type": "code",
      "metadata": {
        "id": "ymQWJitgcg7J"
      },
      "source": [
        "def tensorflow_based_model():\n",
        "    inputs = Input(name='inputs',shape=[max_len])\n",
        "    layer = Embedding(2000,50,input_length=max_len)(inputs) \n",
        "    layer = LSTM(64)(layer)\n",
        "    layer = Dense(256,name='FC1')(layer) \n",
        "    layer = Activation('relu')(layer) \n",
        "    layer = Dropout(0.5)(layer) \n",
        "    layer = Dense(1,name='out_layer')(layer) \n",
        "    layer = Activation('sigmoid')(layer) \n",
        "    model = Model(inputs=inputs,outputs=layer) \n",
        "    return model "
      ],
      "execution_count": null,
      "outputs": []
    },
    {
      "cell_type": "code",
      "metadata": {
        "id": "htbbHppUc34L"
      },
      "source": [
        "model = tensorflow_based_model() \n",
        "model.compile(loss='binary_crossentropy',optimizer=RMSprop(),metrics=['accuracy'])  "
      ],
      "execution_count": null,
      "outputs": []
    },
    {
      "cell_type": "code",
      "metadata": {
        "id": "bf-6TwyEc623",
        "colab": {
          "base_uri": "https://localhost:8080/"
        },
        "outputId": "cf19ec19-1f8a-4eb3-c6e1-d09e3a3d02a6"
      },
      "source": [
        "history=model.fit(X_train,Y_train,batch_size=80,epochs=6, validation_split=0.1)\n",
        "print('Training finished !!')"
      ],
      "execution_count": null,
      "outputs": [
        {
          "output_type": "stream",
          "text": [
            "Epoch 1/6\n",
            "630/630 [==============================] - 482s 762ms/step - loss: 0.5836 - accuracy: 0.6824 - val_loss: 0.5029 - val_accuracy: 0.7525\n",
            "Epoch 2/6\n",
            "630/630 [==============================] - 481s 764ms/step - loss: 0.6307 - accuracy: 0.7018 - val_loss: 0.5037 - val_accuracy: 0.7523\n",
            "Epoch 3/6\n",
            "630/630 [==============================] - 490s 778ms/step - loss: 0.4886 - accuracy: 0.7667 - val_loss: 0.5030 - val_accuracy: 0.7595\n",
            "Epoch 4/6\n",
            "630/630 [==============================] - 492s 781ms/step - loss: 0.4937 - accuracy: 0.7594 - val_loss: 0.5140 - val_accuracy: 0.7541\n",
            "Epoch 5/6\n",
            "630/630 [==============================] - 490s 778ms/step - loss: 0.4806 - accuracy: 0.7729 - val_loss: 0.5103 - val_accuracy: 0.7418\n",
            "Epoch 6/6\n",
            "630/630 [==============================] - 484s 769ms/step - loss: 0.4776 - accuracy: 0.7725 - val_loss: 0.5040 - val_accuracy: 0.7543\n",
            "Training finished !!\n"
          ],
          "name": "stdout"
        }
      ]
    },
    {
      "cell_type": "code",
      "metadata": {
        "colab": {
          "base_uri": "https://localhost:8080/"
        },
        "id": "v-AK7xexc9D6",
        "outputId": "460c5c68-1b69-4747-8d4c-7ff7d7b64111"
      },
      "source": [
        "accr1 = model.evaluate(X_test,Y_test) #we are starting to test the model here"
      ],
      "execution_count": null,
      "outputs": [
        {
          "output_type": "stream",
          "text": [
            "750/750 [==============================] - 91s 121ms/step - loss: 0.5047 - accuracy: 0.7573\n"
          ],
          "name": "stdout"
        }
      ]
    },
    {
      "cell_type": "code",
      "metadata": {
        "id": "fJWuTYoObs2G"
      },
      "source": [
        "y_pred=model.predict(X_test)"
      ],
      "execution_count": null,
      "outputs": []
    },
    {
      "cell_type": "code",
      "metadata": {
        "id": "gICZxBHedAfB",
        "colab": {
          "base_uri": "https://localhost:8080/",
          "height": 180
        },
        "outputId": "ce55718c-4cf9-4b46-b8f7-7b9abb03df05"
      },
      "source": [
        "y_pred = model.predict(X_test) #getting predictions on the trained model\n",
        "y_pred = (y_pred > 0.5) "
      ],
      "execution_count": 5,
      "outputs": [
        {
          "output_type": "error",
          "ename": "NameError",
          "evalue": "ignored",
          "traceback": [
            "\u001b[0;31m---------------------------------------------------------------------------\u001b[0m",
            "\u001b[0;31mNameError\u001b[0m                                 Traceback (most recent call last)",
            "\u001b[0;32m<ipython-input-5-884aed22678c>\u001b[0m in \u001b[0;36m<module>\u001b[0;34m()\u001b[0m\n\u001b[0;32m----> 1\u001b[0;31m \u001b[0my_pred\u001b[0m \u001b[0;34m=\u001b[0m \u001b[0mmodel\u001b[0m\u001b[0;34m.\u001b[0m\u001b[0mpredict\u001b[0m\u001b[0;34m(\u001b[0m\u001b[0mX_test\u001b[0m\u001b[0;34m)\u001b[0m \u001b[0;31m#getting predictions on the trained model\u001b[0m\u001b[0;34m\u001b[0m\u001b[0;34m\u001b[0m\u001b[0m\n\u001b[0m\u001b[1;32m      2\u001b[0m \u001b[0my_pred\u001b[0m \u001b[0;34m=\u001b[0m \u001b[0;34m(\u001b[0m\u001b[0my_pred\u001b[0m \u001b[0;34m>\u001b[0m \u001b[0;36m0.5\u001b[0m\u001b[0;34m)\u001b[0m\u001b[0;34m\u001b[0m\u001b[0;34m\u001b[0m\u001b[0m\n",
            "\u001b[0;31mNameError\u001b[0m: name 'model' is not defined"
          ]
        }
      ]
    },
    {
      "cell_type": "code",
      "metadata": {
        "id": "BfCI0hyYTMU0"
      },
      "source": [
        ""
      ],
      "execution_count": null,
      "outputs": []
    }
  ]
}